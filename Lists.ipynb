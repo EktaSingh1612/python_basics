{
  "nbformat": 4,
  "nbformat_minor": 0,
  "metadata": {
    "colab": {
      "provenance": []
    },
    "kernelspec": {
      "name": "python3",
      "display_name": "Python 3"
    },
    "language_info": {
      "name": "python"
    }
  },
  "cells": [
    {
      "cell_type": "markdown",
      "source": [
        "# Python Lists\n",
        "\n",
        "- Lists are ordered collection of data items.\n",
        "- They store multiple items in a single variable.\n",
        "- List items are separated by commas and enclosed within square brackets [].\n",
        "- Lists are changeable meaning we can alter them after creation."
      ],
      "metadata": {
        "id": "amIEAd7FxUVL"
      }
    },
    {
      "cell_type": "code",
      "execution_count": 9,
      "metadata": {
        "colab": {
          "base_uri": "https://localhost:8080/"
        },
        "id": "xtZ3gaZXwtcs",
        "outputId": "011afe19-ed54-4fca-9d56-a98469e8ee91"
      },
      "outputs": [
        {
          "output_type": "stream",
          "name": "stdout",
          "text": [
            "[3, 5, 6, 8, 9, 2, 0, 1, 34, 64]\n"
          ]
        }
      ],
      "source": [
        "l=[3,5,6,8,9,2,0,1,34,64]\n",
        "print(l)"
      ]
    },
    {
      "cell_type": "code",
      "source": [
        "print(type(l))"
      ],
      "metadata": {
        "colab": {
          "base_uri": "https://localhost:8080/"
        },
        "id": "EO9CJxk3xMS4",
        "outputId": "4452de70-70de-404f-fbc7-da2ddd7a8235"
      },
      "execution_count": 2,
      "outputs": [
        {
          "output_type": "stream",
          "name": "stdout",
          "text": [
            "<class 'list'>\n"
          ]
        }
      ]
    },
    {
      "cell_type": "markdown",
      "source": [
        "A single list can contain items of different data types.\n"
      ],
      "metadata": {
        "id": "IkohLmknxjr4"
      }
    },
    {
      "cell_type": "code",
      "source": [
        "details = [\"Abhijeet\", 18, \"FYBScIT\", 9.8]\n",
        "print(details)"
      ],
      "metadata": {
        "colab": {
          "base_uri": "https://localhost:8080/"
        },
        "id": "3alCD1VRxMV2",
        "outputId": "e8f5193a-a8ef-4b9b-f19f-1fe6e21bedc3"
      },
      "execution_count": 3,
      "outputs": [
        {
          "output_type": "stream",
          "name": "stdout",
          "text": [
            "['Abhijeet', 18, 'FYBScIT', 9.8]\n"
          ]
        }
      ]
    },
    {
      "cell_type": "markdown",
      "source": [
        "## List Index\n",
        "\n",
        "Each item/element in a list has its own unique index. This index can be used to access any particular item from the list. The first item has index [0], second item has index [1], third item has index [2] and so on.\n",
        "\n",
        "### Accessing list items\n",
        "\n",
        "We can access list items by using its index with the square bracket syntax []. For example colors[0] will give \"Red\", colors[1] will give \"Green\" and so on...\n",
        "\n",
        "### Positive Indexing:\n",
        "\n",
        "As we have seen that list items have index, as such we can access items using these indexes.\n",
        "\n",
        "\n",
        "\n"
      ],
      "metadata": {
        "id": "t4E7Pt1a0UzK"
      }
    },
    {
      "cell_type": "code",
      "source": [
        "l[0]"
      ],
      "metadata": {
        "colab": {
          "base_uri": "https://localhost:8080/"
        },
        "id": "l52huDDFxvSo",
        "outputId": "25a01cbc-5031-461c-848b-a42f88973675"
      },
      "execution_count": 10,
      "outputs": [
        {
          "output_type": "execute_result",
          "data": {
            "text/plain": [
              "3"
            ]
          },
          "metadata": {},
          "execution_count": 10
        }
      ]
    },
    {
      "cell_type": "code",
      "source": [
        "len(l)"
      ],
      "metadata": {
        "colab": {
          "base_uri": "https://localhost:8080/"
        },
        "id": "ErlCzUoGylrY",
        "outputId": "717f7193-687a-49fd-cb1f-e57096e8aed2"
      },
      "execution_count": 11,
      "outputs": [
        {
          "output_type": "execute_result",
          "data": {
            "text/plain": [
              "10"
            ]
          },
          "metadata": {},
          "execution_count": 11
        }
      ]
    },
    {
      "cell_type": "markdown",
      "source": [
        "### Negative Indexing:\n",
        "\n",
        "Similar to positive indexing, negative indexing is also used to access items, but from the end of the list. The last item has index [-1], second last item has index [-2], third last item has index [-3] and so on.\n",
        "\n"
      ],
      "metadata": {
        "id": "46Ysrwgd0wPv"
      }
    },
    {
      "cell_type": "code",
      "source": [
        "print(l[-3]) #negative index\n",
        "# how to to convert it into positive index for less confusion\n",
        "print(l[len(l)-3])"
      ],
      "metadata": {
        "colab": {
          "base_uri": "https://localhost:8080/"
        },
        "id": "QuMB04Ewyd7R",
        "outputId": "915bb205-2072-41c0-d762-c748724cc45d"
      },
      "execution_count": 15,
      "outputs": [
        {
          "output_type": "stream",
          "name": "stdout",
          "text": [
            "1\n",
            "1\n"
          ]
        }
      ]
    },
    {
      "cell_type": "markdown",
      "source": [
        "### Check whether an item in present in the list?\n",
        "\n",
        "We can check if a given item is present in the list. This is done using the in keyword."
      ],
      "metadata": {
        "id": "-jM3J3OD07JU"
      }
    },
    {
      "cell_type": "code",
      "source": [
        "if 10 in l:\n",
        "  print('yes')\n",
        "else:\n",
        "  print('no')"
      ],
      "metadata": {
        "colab": {
          "base_uri": "https://localhost:8080/"
        },
        "id": "dPdBKrg2zCMx",
        "outputId": "b0237729-aff0-48cb-b319-c8377092753a"
      },
      "execution_count": 13,
      "outputs": [
        {
          "output_type": "stream",
          "name": "stdout",
          "text": [
            "no\n"
          ]
        }
      ]
    },
    {
      "cell_type": "code",
      "source": [
        "if 'Abhijeet' in details:\n",
        "  print('yes')\n",
        "else:\n",
        "  print('no')"
      ],
      "metadata": {
        "colab": {
          "base_uri": "https://localhost:8080/"
        },
        "id": "e6oEGgvBznJP",
        "outputId": "dc3394c8-735e-4233-b893-bef54e6f2dc4"
      },
      "execution_count": 16,
      "outputs": [
        {
          "output_type": "stream",
          "name": "stdout",
          "text": [
            "yes\n"
          ]
        }
      ]
    },
    {
      "cell_type": "code",
      "source": [
        "if '5' in l:\n",
        "  print('yes')\n",
        "else:\n",
        "  print('no')"
      ],
      "metadata": {
        "colab": {
          "base_uri": "https://localhost:8080/"
        },
        "id": "TlUMKYZvznAl",
        "outputId": "6f6fffc3-e9fc-4c44-a096-ce4418016f78"
      },
      "execution_count": 17,
      "outputs": [
        {
          "output_type": "stream",
          "name": "stdout",
          "text": [
            "no\n"
          ]
        }
      ]
    },
    {
      "cell_type": "markdown",
      "source": [
        "## Range of Index:\n",
        "\n",
        "You can print a range of list items by specifying where you want to start, where do you want to end and if you want to skip elements in between the range.\n",
        "\n",
        "listName[start : end : jumpIndex]\n",
        "\n",
        "Note: jump Index is optional. We will see this in later examples."
      ],
      "metadata": {
        "id": "_FyKg-nx2DA5"
      }
    },
    {
      "cell_type": "code",
      "source": [
        "l[:]"
      ],
      "metadata": {
        "colab": {
          "base_uri": "https://localhost:8080/"
        },
        "id": "HeJnrh6b1MDG",
        "outputId": "8cdd5bfa-60f7-4b43-cf99-e69a6ba3be13"
      },
      "execution_count": 18,
      "outputs": [
        {
          "output_type": "execute_result",
          "data": {
            "text/plain": [
              "[3, 5, 6, 8, 9, 2, 0, 1, 34, 64]"
            ]
          },
          "metadata": {},
          "execution_count": 18
        }
      ]
    },
    {
      "cell_type": "code",
      "source": [
        "l[1:]"
      ],
      "metadata": {
        "colab": {
          "base_uri": "https://localhost:8080/"
        },
        "id": "3CvIW7Jr1Sbu",
        "outputId": "c219b2c3-fe48-4a11-d68a-6228ecf61b3a"
      },
      "execution_count": 19,
      "outputs": [
        {
          "output_type": "execute_result",
          "data": {
            "text/plain": [
              "[5, 6, 8, 9, 2, 0, 1, 34, 64]"
            ]
          },
          "metadata": {},
          "execution_count": 19
        }
      ]
    },
    {
      "cell_type": "code",
      "source": [
        "l[1:-1]"
      ],
      "metadata": {
        "colab": {
          "base_uri": "https://localhost:8080/"
        },
        "id": "JWZnZ8hg1SYF",
        "outputId": "8a17691a-d604-4a16-dc2a-0d2fc7a54dc9"
      },
      "execution_count": 20,
      "outputs": [
        {
          "output_type": "execute_result",
          "data": {
            "text/plain": [
              "[5, 6, 8, 9, 2, 0, 1, 34]"
            ]
          },
          "metadata": {},
          "execution_count": 20
        }
      ]
    },
    {
      "cell_type": "code",
      "source": [
        "# jump indexing\n",
        "l[::2]"
      ],
      "metadata": {
        "colab": {
          "base_uri": "https://localhost:8080/"
        },
        "id": "4nj4vuGB1SUs",
        "outputId": "4afd2aa9-b53b-4bfd-daeb-ffd0664e620a"
      },
      "execution_count": 21,
      "outputs": [
        {
          "output_type": "execute_result",
          "data": {
            "text/plain": [
              "[3, 6, 9, 0, 34]"
            ]
          },
          "metadata": {},
          "execution_count": 21
        }
      ]
    },
    {
      "cell_type": "markdown",
      "source": [
        "Here, we provide index of the element from where we want to start and the index of the element till which we want to print the values.\n",
        "\n",
        "Note: The element of the end index provided will not be included.\n",
        "\n",
        "Example: printing all element from a given index till the end"
      ],
      "metadata": {
        "id": "2Rfh0-mw2Z6k"
      }
    },
    {
      "cell_type": "code",
      "source": [
        "animals = [\"cat\", \"dog\", \"bat\", \"mouse\", \"pig\", \"horse\", \"donkey\", \"goat\", \"cow\"]\n",
        "print(animals[4:])\t#using positive indexes\n",
        "print(animals[-4:])\t#using negative indexes"
      ],
      "metadata": {
        "colab": {
          "base_uri": "https://localhost:8080/"
        },
        "id": "re-Ea4St2dGv",
        "outputId": "4e29df63-e0fd-429c-9662-8ef7bcfd21e3"
      },
      "execution_count": 22,
      "outputs": [
        {
          "output_type": "stream",
          "name": "stdout",
          "text": [
            "['pig', 'horse', 'donkey', 'goat', 'cow']\n",
            "['horse', 'donkey', 'goat', 'cow']\n"
          ]
        }
      ]
    },
    {
      "cell_type": "markdown",
      "source": [
        "When no end index is provided, the interpreter prints all the values till the end.\n",
        "\n",
        "When no start index is provided, the interpreter prints all the values from start up to the end index provided.\n",
        "\n",
        "\n",
        "Example: printing all elements from start to a given index"
      ],
      "metadata": {
        "id": "U-x_4CQo2pEG"
      }
    },
    {
      "cell_type": "code",
      "source": [
        "animals = [\"cat\", \"dog\", \"bat\", \"mouse\", \"pig\", \"horse\", \"donkey\", \"goat\", \"cow\"]\n",
        "print(animals[:6])\t#using positive indexes\n",
        "print(animals[:-3])\t#using negative indexes"
      ],
      "metadata": {
        "colab": {
          "base_uri": "https://localhost:8080/"
        },
        "id": "EkqCTe2g2r3U",
        "outputId": "0f06d01a-bf6a-4989-8f32-da17d613389e"
      },
      "execution_count": 23,
      "outputs": [
        {
          "output_type": "stream",
          "name": "stdout",
          "text": [
            "['cat', 'dog', 'bat', 'mouse', 'pig', 'horse']\n",
            "['cat', 'dog', 'bat', 'mouse', 'pig', 'horse']\n"
          ]
        }
      ]
    },
    {
      "cell_type": "markdown",
      "source": [
        "## List Comprehension\n",
        "\n",
        "List comprehensions are used for creating new lists from other iterables like lists, tuples, dictionaries, sets, and even in arrays and strings.\n",
        "\n",
        "Syntax:\n",
        "\n",
        "> ### List = [Expression(item) for item in iterable if Condition] \n",
        "\n",
        "- Expression: It is the item which is being iterated.\n",
        "\n",
        "- Iterable: It can be list, tuples, dictionaries, sets, and even in arrays and strings.\n",
        "\n",
        "- Condition: Condition checks if the item should be added to the new list or not.\n",
        "\n",
        "Example 1: Accepts items with the small letter “o” in the new list"
      ],
      "metadata": {
        "id": "kP4_YwtJ3Ggg"
      }
    },
    {
      "cell_type": "code",
      "source": [
        "names = [\"Milo\", \"Sarah\", \"Bruno\", \"Anastasia\", \"Rosa\"]\n",
        "namesWith_O = [item for item in names if \"o\" in item]\n",
        "print(namesWith_O)"
      ],
      "metadata": {
        "colab": {
          "base_uri": "https://localhost:8080/"
        },
        "id": "1LLsOWuR3F5J",
        "outputId": "76471d09-c5c5-4b96-ad8e-f9919a7ce0f8"
      },
      "execution_count": 24,
      "outputs": [
        {
          "output_type": "stream",
          "name": "stdout",
          "text": [
            "['Milo', 'Bruno', 'Rosa']\n"
          ]
        }
      ]
    },
    {
      "cell_type": "markdown",
      "source": [
        "Example 2: Accepts items which have more than 4 letters\n",
        "\n"
      ],
      "metadata": {
        "id": "a8rLv_D930fj"
      }
    },
    {
      "cell_type": "code",
      "source": [
        "names = [\"Milo\", \"Sarah\", \"Bruno\", \"Anastasia\", \"Rosa\"]\n",
        "namesWith_4_letters = [item for item in names if (len(item) > 4)]\n",
        "print(namesWith_4_letters)"
      ],
      "metadata": {
        "colab": {
          "base_uri": "https://localhost:8080/"
        },
        "id": "glcfnsxp3sxP",
        "outputId": "2fce24f9-8da1-4ac8-f021-ad3aa13ae0f0"
      },
      "execution_count": 25,
      "outputs": [
        {
          "output_type": "stream",
          "name": "stdout",
          "text": [
            "['Sarah', 'Bruno', 'Anastasia']\n"
          ]
        }
      ]
    },
    {
      "cell_type": "code",
      "source": [
        "lst=[i for i in range(4)]\n",
        "lst"
      ],
      "metadata": {
        "colab": {
          "base_uri": "https://localhost:8080/"
        },
        "id": "9H4-ObEl6H3R",
        "outputId": "7cc2654c-8332-4908-bba7-14a474c00bec"
      },
      "execution_count": 28,
      "outputs": [
        {
          "output_type": "execute_result",
          "data": {
            "text/plain": [
              "[0, 1, 2, 3]"
            ]
          },
          "metadata": {},
          "execution_count": 28
        }
      ]
    },
    {
      "cell_type": "code",
      "source": [
        "lst_sq=[i*i for i in range(4)]\n",
        "lst_sq"
      ],
      "metadata": {
        "colab": {
          "base_uri": "https://localhost:8080/"
        },
        "id": "hsDyd3av6TEq",
        "outputId": "8d71aaf1-cabe-4dbd-a5af-be5f79c16946"
      },
      "execution_count": 30,
      "outputs": [
        {
          "output_type": "execute_result",
          "data": {
            "text/plain": [
              "[0, 1, 4, 9]"
            ]
          },
          "metadata": {},
          "execution_count": 30
        }
      ]
    },
    {
      "cell_type": "code",
      "source": [
        "lst_even=[i for i in range(10) if i%2==0]\n",
        "lst_even"
      ],
      "metadata": {
        "colab": {
          "base_uri": "https://localhost:8080/"
        },
        "id": "xj1kMRgf6nrs",
        "outputId": "d6a28986-3a10-4055-ec7c-65cb403fe38a"
      },
      "execution_count": 32,
      "outputs": [
        {
          "output_type": "execute_result",
          "data": {
            "text/plain": [
              "[0, 2, 4, 6, 8]"
            ]
          },
          "metadata": {},
          "execution_count": 32
        }
      ]
    },
    {
      "cell_type": "code",
      "source": [
        "m=[i for i in l if i>10]\n",
        "m"
      ],
      "metadata": {
        "colab": {
          "base_uri": "https://localhost:8080/"
        },
        "id": "AaDuzIzY5vxU",
        "outputId": "1a8c7b12-cfdb-4c8b-d389-13f36bb89499"
      },
      "execution_count": 27,
      "outputs": [
        {
          "output_type": "execute_result",
          "data": {
            "text/plain": [
              "[34, 64]"
            ]
          },
          "metadata": {},
          "execution_count": 27
        }
      ]
    },
    {
      "cell_type": "markdown",
      "source": [
        "## List Methods\n",
        "\n",
        "### list.sort()\n",
        "\n",
        "This method sorts the list in ascending order. The original list is updated\n",
        "\n"
      ],
      "metadata": {
        "id": "Ejpv_UrRyApn"
      }
    },
    {
      "cell_type": "code",
      "source": [
        "colors = [\"voilet\", \"indigo\", \"blue\", \"green\"]\n",
        "colors.sort()\n",
        "print(colors)\n",
        "\n"
      ],
      "metadata": {
        "colab": {
          "base_uri": "https://localhost:8080/"
        },
        "id": "v-0pKQ8NxMY-",
        "outputId": "a6e96b53-257e-4ae9-eceb-6ce0da691ec5"
      },
      "execution_count": 6,
      "outputs": [
        {
          "output_type": "stream",
          "name": "stdout",
          "text": [
            "['blue', 'green', 'indigo', 'voilet']\n"
          ]
        }
      ]
    },
    {
      "cell_type": "code",
      "source": [
        "num = [4,2,5,3,6,1,2,1,2,8,9,7]\n",
        "num.sort()\n",
        "print(num)"
      ],
      "metadata": {
        "colab": {
          "base_uri": "https://localhost:8080/"
        },
        "id": "Kz0CoUM1xMcH",
        "outputId": "0ce97de3-4eef-402b-9e46-923c4295454f"
      },
      "execution_count": 7,
      "outputs": [
        {
          "output_type": "stream",
          "name": "stdout",
          "text": [
            "[1, 1, 2, 2, 2, 3, 4, 5, 6, 7, 8, 9]\n"
          ]
        }
      ]
    },
    {
      "cell_type": "markdown",
      "source": [
        "What if you want to print the list in descending order?\n",
        "We must give reverse=True as a parameter in the sort method."
      ],
      "metadata": {
        "id": "ioG-EE9n7PbJ"
      }
    },
    {
      "cell_type": "code",
      "source": [
        "colors = [\"voilet\", \"indigo\", \"blue\", \"green\"]\n",
        "colors.sort(reverse=True)\n",
        "print(colors)\n",
        "\n",
        "num = [4,2,5,3,6,1,2,1,2,8,9,7]\n",
        "num.sort(reverse=True)\n",
        "print(num)"
      ],
      "metadata": {
        "colab": {
          "base_uri": "https://localhost:8080/"
        },
        "id": "V8mD2Xz2xMe9",
        "outputId": "31bb67f3-1a1e-4d9f-dd8b-9a42ecc91eba"
      },
      "execution_count": 33,
      "outputs": [
        {
          "output_type": "stream",
          "name": "stdout",
          "text": [
            "['voilet', 'indigo', 'green', 'blue']\n",
            "[9, 8, 7, 6, 5, 4, 3, 2, 2, 2, 1, 1]\n"
          ]
        }
      ]
    },
    {
      "cell_type": "markdown",
      "source": [
        "The reverse parameter is set to False by default.\n",
        "\n",
        "Note: Do not mistake the reverse parameter with the reverse method.\n",
        "\n",
        "### reverse()\n",
        "\n",
        "This method reverses the order of the list.\n",
        "\n",
        "Example:"
      ],
      "metadata": {
        "id": "R3rTBJEA7Yr2"
      }
    },
    {
      "cell_type": "code",
      "source": [
        "colors = [\"voilet\", \"indigo\", \"blue\", \"green\"]\n",
        "colors.reverse()\n",
        "print(colors)\n",
        "\n",
        "num = [4,2,5,3,6,1,2,1,2,8,9,7]\n",
        "num.reverse()\n",
        "print(num)"
      ],
      "metadata": {
        "colab": {
          "base_uri": "https://localhost:8080/"
        },
        "id": "lLMlaV43xMiX",
        "outputId": "8192927e-2588-4106-a0e6-ad0a18a82f1b"
      },
      "execution_count": 34,
      "outputs": [
        {
          "output_type": "stream",
          "name": "stdout",
          "text": [
            "['green', 'blue', 'indigo', 'voilet']\n",
            "[7, 9, 8, 2, 1, 2, 1, 6, 3, 5, 2, 4]\n"
          ]
        }
      ]
    },
    {
      "cell_type": "markdown",
      "source": [
        "### index()\n",
        "\n",
        "This method returns the index of the first occurrence of the list item.\n",
        "\n",
        "Example:"
      ],
      "metadata": {
        "id": "n0unC9Sl7nHx"
      }
    },
    {
      "cell_type": "code",
      "source": [
        "colors = [\"voilet\", \"green\", \"indigo\", \"blue\", \"green\"]\n",
        "print(colors.index(\"green\"))\n",
        "\n",
        "num = [4,2,5,3,6,1,2,1,3,2,8,9,7]\n",
        "print(num.index(3))"
      ],
      "metadata": {
        "colab": {
          "base_uri": "https://localhost:8080/"
        },
        "id": "vCZ2m8lR7sTz",
        "outputId": "58ad7c7e-1afe-4a39-d9e1-f5fc0096bb49"
      },
      "execution_count": 35,
      "outputs": [
        {
          "output_type": "stream",
          "name": "stdout",
          "text": [
            "1\n",
            "3\n"
          ]
        }
      ]
    },
    {
      "cell_type": "markdown",
      "source": [
        "### count()\n",
        "\n",
        "Returns the count of the number of items with the given value.\n",
        "\n",
        "Example:"
      ],
      "metadata": {
        "id": "KrdxLd6_7xlV"
      }
    },
    {
      "cell_type": "code",
      "source": [
        "colors = [\"voilet\", \"green\", \"indigo\", \"blue\", \"green\"]\n",
        "print(colors.count(\"green\"))\n",
        "\n",
        "num = [4,2,5,3,6,1,2,1,3,2,8,9,7]"
      ],
      "metadata": {
        "colab": {
          "base_uri": "https://localhost:8080/"
        },
        "id": "nJ4iTsvz72Qz",
        "outputId": "3f930b1d-7213-4652-8f28-b3c6a200d59d"
      },
      "execution_count": 36,
      "outputs": [
        {
          "output_type": "stream",
          "name": "stdout",
          "text": [
            "2\n"
          ]
        }
      ]
    },
    {
      "cell_type": "markdown",
      "source": [
        "### copy()\n",
        "\n",
        "Returns copy of the list. This can be done to perform operations on the list without modifying the original list.\n",
        "\n",
        "Example:"
      ],
      "metadata": {
        "id": "QUVYk6SC77l7"
      }
    },
    {
      "cell_type": "code",
      "source": [
        "colors = [\"voilet\", \"green\", \"indigo\", \"blue\"]\n",
        "newlist = colors.copy()\n",
        "print(colors)\n",
        "print(newlist)"
      ],
      "metadata": {
        "colab": {
          "base_uri": "https://localhost:8080/"
        },
        "id": "VdG_HbEW7_T9",
        "outputId": "2674acbe-b075-4099-b81f-27e43f2e7f63"
      },
      "execution_count": 37,
      "outputs": [
        {
          "output_type": "stream",
          "name": "stdout",
          "text": [
            "['voilet', 'green', 'indigo', 'blue']\n",
            "['voilet', 'green', 'indigo', 'blue']\n"
          ]
        }
      ]
    },
    {
      "cell_type": "markdown",
      "source": [
        "### append():\n",
        "\n",
        "This method appends items to the end of the existing list.\n",
        "\n",
        "Example:"
      ],
      "metadata": {
        "id": "6JyY9uNq8EJF"
      }
    },
    {
      "cell_type": "code",
      "source": [
        "colors = [\"voilet\", \"indigo\", \"blue\"]\n",
        "colors.append(\"green\")\n",
        "print(colors)"
      ],
      "metadata": {
        "colab": {
          "base_uri": "https://localhost:8080/"
        },
        "id": "7TEnwVBZ8DnM",
        "outputId": "c051125f-36be-4100-e247-1aa7b81060f1"
      },
      "execution_count": 38,
      "outputs": [
        {
          "output_type": "stream",
          "name": "stdout",
          "text": [
            "['voilet', 'indigo', 'blue', 'green']\n"
          ]
        }
      ]
    },
    {
      "cell_type": "markdown",
      "source": [
        "### insert():\n",
        "\n",
        "This method inserts an item at the given index. User has to specify index and the item to be inserted within the insert() method.\n",
        "\n",
        "Example:"
      ],
      "metadata": {
        "id": "BQGHijut8L1h"
      }
    },
    {
      "cell_type": "code",
      "source": [
        "colors = [\"voilet\", \"indigo\", \"blue\"]\n",
        "#           [0]        [1]      [2]\n",
        "\n",
        "colors.insert(1, \"green\")   #inserts item at index 1\n",
        "# updated list: colors = [\"voilet\", \"green\", \"indigo\", \"blue\"]\n",
        "#       indexs              [0]       [1]       [2]      [3]\n",
        "\n",
        "print(colors)"
      ],
      "metadata": {
        "colab": {
          "base_uri": "https://localhost:8080/"
        },
        "id": "SnU2VQI08Nde",
        "outputId": "74cef779-3a8b-4ec6-b27b-89802167bcb4"
      },
      "execution_count": 39,
      "outputs": [
        {
          "output_type": "stream",
          "name": "stdout",
          "text": [
            "['voilet', 'green', 'indigo', 'blue']\n"
          ]
        }
      ]
    },
    {
      "cell_type": "markdown",
      "source": [
        "extend():\n",
        "\n",
        "This method adds an entire list or any other collection datatype (set, tuple, dictionary) to the existing list.\n",
        "\n",
        "Example 1:"
      ],
      "metadata": {
        "id": "mfFQgbc68WHN"
      }
    },
    {
      "cell_type": "code",
      "source": [
        "#add a list to a list\n",
        "colors = [\"voilet\", \"indigo\", \"blue\"]\n",
        "rainbow = [\"green\", \"yellow\", \"orange\", \"red\"]\n",
        "colors.extend(rainbow)\n",
        "print(colors)"
      ],
      "metadata": {
        "colab": {
          "base_uri": "https://localhost:8080/"
        },
        "id": "a8LQUvt_8X_-",
        "outputId": "e63b70b7-0b32-479d-b314-11e2edcc8f64"
      },
      "execution_count": 40,
      "outputs": [
        {
          "output_type": "stream",
          "name": "stdout",
          "text": [
            "['voilet', 'indigo', 'blue', 'green', 'yellow', 'orange', 'red']\n"
          ]
        }
      ]
    },
    {
      "cell_type": "markdown",
      "source": [
        "### Concatenating two lists:\n",
        "\n",
        "You can simply concatenate two lists to join two lists.\n",
        "\n",
        "Example:"
      ],
      "metadata": {
        "id": "ga1zAQfI8fi-"
      }
    },
    {
      "cell_type": "code",
      "source": [
        "colors = [\"voilet\", \"indigo\", \"blue\", \"green\"]\n",
        "colors2 = [\"yellow\", \"orange\", \"red\"]\n",
        "print(colors + colors2)"
      ],
      "metadata": {
        "colab": {
          "base_uri": "https://localhost:8080/"
        },
        "id": "kbDKvzn88fI8",
        "outputId": "ad423121-31d1-4fda-f0c4-6d9e5581b6a8"
      },
      "execution_count": 41,
      "outputs": [
        {
          "output_type": "stream",
          "name": "stdout",
          "text": [
            "['voilet', 'indigo', 'blue', 'green', 'yellow', 'orange', 'red']\n"
          ]
        }
      ]
    }
  ]
}