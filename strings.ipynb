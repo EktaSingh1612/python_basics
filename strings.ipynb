{
  "nbformat": 4,
  "nbformat_minor": 0,
  "metadata": {
    "colab": {
      "provenance": []
    },
    "kernelspec": {
      "name": "python3",
      "display_name": "Python 3"
    },
    "language_info": {
      "name": "python"
    }
  },
  "cells": [
    {
      "cell_type": "markdown",
      "source": [
        "# STRINGS\n",
        "\n",
        "In python, anything that you enclose between double or single qoutes is considered as strings.\n",
        "\n",
        "A string is essentially a sequence or array of textual data.\n",
        "\n",
        "Strings are used when working with Unicode characters."
      ],
      "metadata": {
        "id": "rrQxu55T_dch"
      }
    },
    {
      "cell_type": "code",
      "source": [
        "name = 'ekta'\n",
        "print('Hello: ', name)"
      ],
      "metadata": {
        "colab": {
          "base_uri": "https://localhost:8080/"
        },
        "id": "d5iNs7Tj_QAo",
        "outputId": "7707013f-0349-4318-d1a9-237eeab347be"
      },
      "execution_count": 6,
      "outputs": [
        {
          "output_type": "stream",
          "name": "stdout",
          "text": [
            "Hello:  ekta\n"
          ]
        }
      ]
    },
    {
      "cell_type": "code",
      "source": [
        "print('He said \"I like apples more than oranges.\"')"
      ],
      "metadata": {
        "colab": {
          "base_uri": "https://localhost:8080/"
        },
        "id": "xpJY4V5a_P9d",
        "outputId": "44af5e13-2b6a-4c53-ba45-f1114af9271c"
      },
      "execution_count": 7,
      "outputs": [
        {
          "output_type": "stream",
          "name": "stdout",
          "text": [
            "He said \"I like apples more than oranges.\"\n"
          ]
        }
      ]
    },
    {
      "cell_type": "markdown",
      "source": [
        "# Multi-line string"
      ],
      "metadata": {
        "id": "HZTBnO5kA6HD"
      }
    },
    {
      "cell_type": "code",
      "source": [
        "sentence = '''virat kohli is a great cricketer,\n",
        "he's a right arm batsman. \n",
        "he has lead the team many times'''\n",
        "print(sentence)"
      ],
      "metadata": {
        "colab": {
          "base_uri": "https://localhost:8080/"
        },
        "id": "dHMOiFVr_P6o",
        "outputId": "de4bf468-94e4-49ad-c45e-c615b4b54bb9"
      },
      "execution_count": 8,
      "outputs": [
        {
          "output_type": "stream",
          "name": "stdout",
          "text": [
            "virat kohli is a great cricketer,\n",
            "he's a right arm batsman. \n",
            "he has lead the team many times\n"
          ]
        }
      ]
    },
    {
      "cell_type": "markdown",
      "source": [
        "# Accessing characters of a string."
      ],
      "metadata": {
        "id": "hPwNEKBJB3iW"
      }
    },
    {
      "cell_type": "code",
      "source": [
        "a = 'virat'\n",
        "print(a[0])"
      ],
      "metadata": {
        "colab": {
          "base_uri": "https://localhost:8080/"
        },
        "id": "vgPtxuKG_P34",
        "outputId": "4fdde9ab-dc44-49e7-9d07-a09c0f7152ce"
      },
      "execution_count": 9,
      "outputs": [
        {
          "output_type": "stream",
          "name": "stdout",
          "text": [
            "v\n"
          ]
        }
      ]
    },
    {
      "cell_type": "code",
      "source": [
        "print(a[5])"
      ],
      "metadata": {
        "colab": {
          "base_uri": "https://localhost:8080/",
          "height": 164
        },
        "id": "H_Dr7v3ECYHf",
        "outputId": "29117fa3-0215-46bb-c50b-89d2bd229323"
      },
      "execution_count": 10,
      "outputs": [
        {
          "output_type": "error",
          "ename": "IndexError",
          "evalue": "ignored",
          "traceback": [
            "\u001b[0;31m---------------------------------------------------------------------------\u001b[0m",
            "\u001b[0;31mIndexError\u001b[0m                                Traceback (most recent call last)",
            "\u001b[0;32m<ipython-input-10-8f63bedb8ed0>\u001b[0m in \u001b[0;36m<module>\u001b[0;34m\u001b[0m\n\u001b[0;32m----> 1\u001b[0;31m \u001b[0mprint\u001b[0m\u001b[0;34m(\u001b[0m\u001b[0ma\u001b[0m\u001b[0;34m[\u001b[0m\u001b[0;36m5\u001b[0m\u001b[0;34m]\u001b[0m\u001b[0;34m)\u001b[0m\u001b[0;34m\u001b[0m\u001b[0;34m\u001b[0m\u001b[0m\n\u001b[0m",
            "\u001b[0;31mIndexError\u001b[0m: string index out of range"
          ]
        }
      ]
    },
    {
      "cell_type": "markdown",
      "source": [
        "# But what about multi-line string where string length is too big.\n",
        "\n",
        "### we can use for loop like this."
      ],
      "metadata": {
        "id": "iomkNiluCA8N"
      }
    },
    {
      "cell_type": "code",
      "source": [
        "for characters in sentence:\n",
        "  print(characters)"
      ],
      "metadata": {
        "colab": {
          "base_uri": "https://localhost:8080/"
        },
        "id": "8IKsgxOH_Pxu",
        "outputId": "bd3436d1-b7a8-4723-eae7-e0874a0a3a1d"
      },
      "execution_count": 11,
      "outputs": [
        {
          "output_type": "stream",
          "name": "stdout",
          "text": [
            "v\n",
            "i\n",
            "r\n",
            "a\n",
            "t\n",
            " \n",
            "k\n",
            "o\n",
            "h\n",
            "l\n",
            "i\n",
            " \n",
            "i\n",
            "s\n",
            " \n",
            "a\n",
            " \n",
            "g\n",
            "r\n",
            "e\n",
            "a\n",
            "t\n",
            " \n",
            "c\n",
            "r\n",
            "i\n",
            "c\n",
            "k\n",
            "e\n",
            "t\n",
            "e\n",
            "r\n",
            ",\n",
            "\n",
            "\n",
            "h\n",
            "e\n",
            "'\n",
            "s\n",
            " \n",
            "a\n",
            " \n",
            "r\n",
            "i\n",
            "g\n",
            "h\n",
            "t\n",
            " \n",
            "a\n",
            "r\n",
            "m\n",
            " \n",
            "b\n",
            "a\n",
            "t\n",
            "s\n",
            "m\n",
            "a\n",
            "n\n",
            ".\n",
            " \n",
            "\n",
            "\n",
            "h\n",
            "e\n",
            " \n",
            "h\n",
            "a\n",
            "s\n",
            " \n",
            "l\n",
            "e\n",
            "a\n",
            "d\n",
            " \n",
            "t\n",
            "h\n",
            "e\n",
            " \n",
            "t\n",
            "e\n",
            "a\n",
            "m\n",
            " \n",
            "m\n",
            "a\n",
            "n\n",
            "y\n",
            " \n",
            "t\n",
            "i\n",
            "m\n",
            "e\n",
            "s\n"
          ]
        }
      ]
    },
    {
      "cell_type": "markdown",
      "source": [
        "# String slicing\n"
      ],
      "metadata": {
        "id": "XE5idgh3DBke"
      }
    },
    {
      "cell_type": "code",
      "source": [
        "name = 'virat,rohit'\n",
        "print(len(name))"
      ],
      "metadata": {
        "colab": {
          "base_uri": "https://localhost:8080/"
        },
        "id": "Z7NNfBmRCulH",
        "outputId": "51cef45c-7e74-42eb-9220-7b1ec03093d0"
      },
      "execution_count": 12,
      "outputs": [
        {
          "output_type": "stream",
          "name": "stdout",
          "text": [
            "11\n"
          ]
        }
      ]
    },
    {
      "cell_type": "code",
      "source": [
        "print(name[0:4]) #includes 0 but not 4"
      ],
      "metadata": {
        "colab": {
          "base_uri": "https://localhost:8080/"
        },
        "id": "HkhAplxwDdN2",
        "outputId": "d47c55bd-b5e9-4d2a-8bee-d493e486a05e"
      },
      "execution_count": 13,
      "outputs": [
        {
          "output_type": "stream",
          "name": "stdout",
          "text": [
            "vira\n"
          ]
        }
      ]
    },
    {
      "cell_type": "code",
      "source": [
        "print(name[:4])"
      ],
      "metadata": {
        "colab": {
          "base_uri": "https://localhost:8080/"
        },
        "id": "gryqXH2TDodw",
        "outputId": "c0604377-a64c-4dae-a5ce-acc5d7a5810d"
      },
      "execution_count": 15,
      "outputs": [
        {
          "output_type": "stream",
          "name": "stdout",
          "text": [
            "vira\n"
          ]
        }
      ]
    },
    {
      "cell_type": "code",
      "source": [
        "print(name[1:4])"
      ],
      "metadata": {
        "colab": {
          "base_uri": "https://localhost:8080/"
        },
        "id": "DsNt8sV4Dogk",
        "outputId": "626397c2-d062-46d5-8f6c-50d6bc8eb9ad"
      },
      "execution_count": 16,
      "outputs": [
        {
          "output_type": "stream",
          "name": "stdout",
          "text": [
            "ira\n"
          ]
        }
      ]
    },
    {
      "cell_type": "code",
      "source": [
        "print(name[1:])"
      ],
      "metadata": {
        "colab": {
          "base_uri": "https://localhost:8080/"
        },
        "id": "lpv37cVADojt",
        "outputId": "52105290-d9c9-4638-f393-593da5a70c56"
      },
      "execution_count": 17,
      "outputs": [
        {
          "output_type": "stream",
          "name": "stdout",
          "text": [
            "irat,rohit\n"
          ]
        }
      ]
    },
    {
      "cell_type": "code",
      "source": [
        "print(name[:])\n",
        "#print(name[:len(name)])"
      ],
      "metadata": {
        "colab": {
          "base_uri": "https://localhost:8080/"
        },
        "id": "e9btplohDonF",
        "outputId": "fc0fab17-40b2-4ab3-dd5a-1baf3a35d24a"
      },
      "execution_count": 18,
      "outputs": [
        {
          "output_type": "stream",
          "name": "stdout",
          "text": [
            "virat,rohit\n"
          ]
        }
      ]
    },
    {
      "cell_type": "code",
      "source": [
        "# negative slicing\n",
        "\n",
        "#print(name[0:len(name)-3])\n",
        "print(name[0:-3])"
      ],
      "metadata": {
        "colab": {
          "base_uri": "https://localhost:8080/"
        },
        "id": "FqPtxrk6DoqO",
        "outputId": "f3c7664b-fcf7-41f9-95e2-715418e7d0d2"
      },
      "execution_count": 19,
      "outputs": [
        {
          "output_type": "stream",
          "name": "stdout",
          "text": [
            "virat,ro\n"
          ]
        }
      ]
    },
    {
      "cell_type": "code",
      "source": [
        "print(name[-1:-3]) #doesn't make sense 10:8"
      ],
      "metadata": {
        "colab": {
          "base_uri": "https://localhost:8080/"
        },
        "id": "GUc0ocEOEeJR",
        "outputId": "c8d11ec2-b393-46cb-c15e-fdcf12e32ebf"
      },
      "execution_count": 21,
      "outputs": [
        {
          "output_type": "stream",
          "name": "stdout",
          "text": [
            "\n"
          ]
        }
      ]
    },
    {
      "cell_type": "code",
      "source": [
        "print(name[10:8])"
      ],
      "metadata": {
        "colab": {
          "base_uri": "https://localhost:8080/"
        },
        "id": "TDWGEBn9FdOc",
        "outputId": "d8758957-f06e-4b56-ef9c-1d136548c3c8"
      },
      "execution_count": 24,
      "outputs": [
        {
          "output_type": "stream",
          "name": "stdout",
          "text": [
            "\n"
          ]
        }
      ]
    },
    {
      "cell_type": "code",
      "source": [
        "print(name[-3:-1]) #8:10"
      ],
      "metadata": {
        "colab": {
          "base_uri": "https://localhost:8080/"
        },
        "id": "054mD4FYEeMS",
        "outputId": "6611bfce-f341-4099-bd32-2d099e833341"
      },
      "execution_count": 22,
      "outputs": [
        {
          "output_type": "stream",
          "name": "stdout",
          "text": [
            "hi\n"
          ]
        }
      ]
    },
    {
      "cell_type": "code",
      "source": [
        "print(name[8:10])"
      ],
      "metadata": {
        "colab": {
          "base_uri": "https://localhost:8080/"
        },
        "id": "AhtacYS0FNMB",
        "outputId": "fb8a1b37-5060-4f60-8dc2-4234fc49bdc8"
      },
      "execution_count": 23,
      "outputs": [
        {
          "output_type": "stream",
          "name": "stdout",
          "text": [
            "hi\n"
          ]
        }
      ]
    },
    {
      "cell_type": "markdown",
      "source": [
        "# STRING METHODS\n",
        "\n",
        "strings in itself is immutable.\n",
        "\n",
        "it returns a new string whenever we apply any string methods into it."
      ],
      "metadata": {
        "id": "UXtj9izZGQ99"
      }
    },
    {
      "cell_type": "code",
      "source": [
        "# uppercase\n",
        "a = 'Virat'\n",
        "print(a.upper())"
      ],
      "metadata": {
        "colab": {
          "base_uri": "https://localhost:8080/"
        },
        "id": "2LdXRO5FGPj6",
        "outputId": "9ae34e37-3bfa-437c-a4c3-eb217dccfbd6"
      },
      "execution_count": 27,
      "outputs": [
        {
          "output_type": "stream",
          "name": "stdout",
          "text": [
            "VIRAT\n"
          ]
        }
      ]
    },
    {
      "cell_type": "code",
      "source": [
        "print(a.lower())"
      ],
      "metadata": {
        "colab": {
          "base_uri": "https://localhost:8080/"
        },
        "id": "ZZAnAYtEGPnO",
        "outputId": "47f27b46-4bbf-4f2c-819e-95ee5ab40b2b"
      },
      "execution_count": 28,
      "outputs": [
        {
          "output_type": "stream",
          "name": "stdout",
          "text": [
            "virat\n"
          ]
        }
      ]
    },
    {
      "cell_type": "markdown",
      "source": [
        "## rstip( )"
      ],
      "metadata": {
        "id": "4RsSoSYdH4c9"
      }
    },
    {
      "cell_type": "code",
      "source": [
        "b = 'virat!!!!!!!!!!'\n",
        "print(b.rstrip('!')) # strips trailing characters not if same character is in the start of the string"
      ],
      "metadata": {
        "colab": {
          "base_uri": "https://localhost:8080/"
        },
        "id": "YsPYdFfqGPrK",
        "outputId": "13f4a8fa-c7fc-4574-8a34-40381413083b"
      },
      "execution_count": 29,
      "outputs": [
        {
          "output_type": "stream",
          "name": "stdout",
          "text": [
            "virat\n"
          ]
        }
      ]
    },
    {
      "cell_type": "code",
      "source": [
        "b = '!!!virat!!!!!!!!!!'\n",
        "print(b.rstrip('!')) "
      ],
      "metadata": {
        "colab": {
          "base_uri": "https://localhost:8080/"
        },
        "id": "Y8RbtAFpGPuC",
        "outputId": "c26f2b51-1ed1-4f8c-8831-d3af04c45542"
      },
      "execution_count": 30,
      "outputs": [
        {
          "output_type": "stream",
          "name": "stdout",
          "text": [
            "!!!virat\n"
          ]
        }
      ]
    },
    {
      "cell_type": "markdown",
      "source": [
        "## replace( )\n",
        "\n",
        "replaces all occurances of a string with another string."
      ],
      "metadata": {
        "id": "BcJKz8rxH8N4"
      }
    },
    {
      "cell_type": "code",
      "source": [
        "str2 = 'this is an apple. this is lying down here since tomorrow'\n",
        "print(str2.replace('this','that'))"
      ],
      "metadata": {
        "colab": {
          "base_uri": "https://localhost:8080/"
        },
        "id": "JNk1y_RBGPxp",
        "outputId": "e714946f-ff92-4e84-bad8-d9051ea51c23"
      },
      "execution_count": 31,
      "outputs": [
        {
          "output_type": "stream",
          "name": "stdout",
          "text": [
            "that is an apple. that is lying down here since tomorrow\n"
          ]
        }
      ]
    },
    {
      "cell_type": "markdown",
      "source": [
        "## split( )\n",
        "\n",
        "it splits the given string at the specified instance & returns the seperated string as list items."
      ],
      "metadata": {
        "id": "vGF3oqN7I0cD"
      }
    },
    {
      "cell_type": "code",
      "source": [
        "str3 = 'virat rohit pandya'\n",
        "print(str3.split(' '))"
      ],
      "metadata": {
        "colab": {
          "base_uri": "https://localhost:8080/"
        },
        "id": "h4cikfVAIzzl",
        "outputId": "cdd0d729-197e-48e6-9f10-ec38718f6a35"
      },
      "execution_count": 32,
      "outputs": [
        {
          "output_type": "stream",
          "name": "stdout",
          "text": [
            "['virat', 'rohit', 'pandya']\n"
          ]
        }
      ]
    },
    {
      "cell_type": "markdown",
      "source": [
        "## capitalize( )\n",
        "\n",
        "returns 1st character to uppercase"
      ],
      "metadata": {
        "id": "nn-DDU5YJy3X"
      }
    },
    {
      "cell_type": "code",
      "source": [
        "str4='hello world'\n",
        "print(str4.capitalize())"
      ],
      "metadata": {
        "colab": {
          "base_uri": "https://localhost:8080/"
        },
        "id": "DqZ9dUFbJlGB",
        "outputId": "06181101-c749-47c8-a0b8-cd3b7c79f4e7"
      },
      "execution_count": 33,
      "outputs": [
        {
          "output_type": "stream",
          "name": "stdout",
          "text": [
            "Hello world\n"
          ]
        }
      ]
    },
    {
      "cell_type": "markdown",
      "source": [
        "# center( )\n",
        "\n",
        "aligns the string to the center as per parameters given by user"
      ],
      "metadata": {
        "id": "0loLdtp5KHLR"
      }
    },
    {
      "cell_type": "code",
      "source": [
        "str4='hello world'\n",
        "print(str4.center(50))"
      ],
      "metadata": {
        "colab": {
          "base_uri": "https://localhost:8080/"
        },
        "id": "-xl6-tNjJlUi",
        "outputId": "bc850157-75fa-4a96-ca70-df03789fba05"
      },
      "execution_count": 35,
      "outputs": [
        {
          "output_type": "stream",
          "name": "stdout",
          "text": [
            "                   hello world                    \n"
          ]
        }
      ]
    },
    {
      "cell_type": "markdown",
      "source": [
        "it can also provide padding character. it will fill the rest of the fill characters provided by the user."
      ],
      "metadata": {
        "id": "PB_Oyq74K5ZH"
      }
    },
    {
      "cell_type": "code",
      "source": [
        "str4='hello world'\n",
        "print(str4.center(50,'.'))"
      ],
      "metadata": {
        "colab": {
          "base_uri": "https://localhost:8080/"
        },
        "id": "l8bom_MTJlev",
        "outputId": "5000f5ab-7084-446f-bf27-2d5ee8b7986e"
      },
      "execution_count": 36,
      "outputs": [
        {
          "output_type": "stream",
          "name": "stdout",
          "text": [
            "...................hello world....................\n"
          ]
        }
      ]
    },
    {
      "cell_type": "markdown",
      "source": [
        "## count( )\n",
        "\n",
        "it returns no. of times the given value has occured within the given string."
      ],
      "metadata": {
        "id": "kALqGKleLROF"
      }
    },
    {
      "cell_type": "code",
      "source": [
        "str5 = 'ufdbusidbvuiabyefhaoi;licanucbdvhybdbv;icvnbvysefya;ehjyffg'\n",
        "print(str5.count('f'))"
      ],
      "metadata": {
        "colab": {
          "base_uri": "https://localhost:8080/"
        },
        "id": "zVt95-qwJliJ",
        "outputId": "6d3106f9-5dfd-4e36-af0c-10fc22beb496"
      },
      "execution_count": 38,
      "outputs": [
        {
          "output_type": "stream",
          "name": "stdout",
          "text": [
            "5\n"
          ]
        }
      ]
    },
    {
      "cell_type": "markdown",
      "source": [
        "## endswith( )\n",
        "\n",
        "checks if the string ends with a given value. returns in booleans"
      ],
      "metadata": {
        "id": "DhrsVqW2Ml0t"
      }
    },
    {
      "cell_type": "code",
      "source": [
        "g = 'welcome to my colab!!!!'\n",
        "print(g.endswith('!!'))"
      ],
      "metadata": {
        "colab": {
          "base_uri": "https://localhost:8080/"
        },
        "id": "5cu-1avFMkYt",
        "outputId": "253db315-6cfb-42b7-ad7d-4012b2b46aba"
      },
      "execution_count": 39,
      "outputs": [
        {
          "output_type": "stream",
          "name": "stdout",
          "text": [
            "True\n"
          ]
        }
      ]
    },
    {
      "cell_type": "code",
      "source": [
        "print(g.endswith('lab'))"
      ],
      "metadata": {
        "colab": {
          "base_uri": "https://localhost:8080/"
        },
        "id": "CQTDTGFnMkcI",
        "outputId": "11eaf721-5849-47ec-8abf-2ded7edde632"
      },
      "execution_count": 40,
      "outputs": [
        {
          "output_type": "stream",
          "name": "stdout",
          "text": [
            "False\n"
          ]
        }
      ]
    },
    {
      "cell_type": "code",
      "source": [
        "print(g.endswith('to', 4,10)) # TO CHECK FOR A VALUE IN BETWEEN THE STRING BY PROVIDING START AND END INDEX POSITION."
      ],
      "metadata": {
        "colab": {
          "base_uri": "https://localhost:8080/"
        },
        "id": "v88dCR7gMknT",
        "outputId": "de7227e8-bb4b-46da-d6aa-c231c5d85752"
      },
      "execution_count": 41,
      "outputs": [
        {
          "output_type": "stream",
          "name": "stdout",
          "text": [
            "True\n"
          ]
        }
      ]
    },
    {
      "cell_type": "markdown",
      "source": [
        "## find( )\n",
        "\n",
        "searches 1st occurance of the given value and returns index where it is present.\n",
        "if value is absent returns -1 "
      ],
      "metadata": {
        "id": "pCQ6ezNdNtOL"
      }
    },
    {
      "cell_type": "code",
      "source": [
        "print(str2.find('is')) #Th(is)"
      ],
      "metadata": {
        "colab": {
          "base_uri": "https://localhost:8080/"
        },
        "id": "otqQ31i_NqrK",
        "outputId": "d4d51d89-7fe3-40ae-8d0f-97f30700a0c5"
      },
      "execution_count": 42,
      "outputs": [
        {
          "output_type": "stream",
          "name": "stdout",
          "text": [
            "2\n"
          ]
        }
      ]
    },
    {
      "cell_type": "code",
      "source": [
        "print(str2.find('mango'))"
      ],
      "metadata": {
        "colab": {
          "base_uri": "https://localhost:8080/"
        },
        "id": "nz4dMoJoNqt8",
        "outputId": "9f09cb6b-17a1-4d2a-e415-95670a8c74ea"
      },
      "execution_count": 43,
      "outputs": [
        {
          "output_type": "stream",
          "name": "stdout",
          "text": [
            "-1\n"
          ]
        }
      ]
    },
    {
      "cell_type": "code",
      "source": [
        "print(str2.index('mango'))"
      ],
      "metadata": {
        "colab": {
          "base_uri": "https://localhost:8080/",
          "height": 164
        },
        "id": "6YXOorn1NqxX",
        "outputId": "13f8aaf3-24f3-4770-e314-9c9296c6af67"
      },
      "execution_count": 44,
      "outputs": [
        {
          "output_type": "error",
          "ename": "ValueError",
          "evalue": "ignored",
          "traceback": [
            "\u001b[0;31m---------------------------------------------------------------------------\u001b[0m",
            "\u001b[0;31mValueError\u001b[0m                                Traceback (most recent call last)",
            "\u001b[0;32m<ipython-input-44-6286fdf455fe>\u001b[0m in \u001b[0;36m<module>\u001b[0;34m\u001b[0m\n\u001b[0;32m----> 1\u001b[0;31m \u001b[0mprint\u001b[0m\u001b[0;34m(\u001b[0m\u001b[0mstr2\u001b[0m\u001b[0;34m.\u001b[0m\u001b[0mindex\u001b[0m\u001b[0;34m(\u001b[0m\u001b[0;34m'mango'\u001b[0m\u001b[0;34m)\u001b[0m\u001b[0;34m)\u001b[0m\u001b[0;34m\u001b[0m\u001b[0;34m\u001b[0m\u001b[0m\n\u001b[0m",
            "\u001b[0;31mValueError\u001b[0m: substring not found"
          ]
        }
      ]
    },
    {
      "cell_type": "markdown",
      "source": [
        "## isalnum( )\n",
        "\n",
        "whether your string is alphanumeric or not."
      ],
      "metadata": {
        "id": "KRIai2V4WUVH"
      }
    },
    {
      "cell_type": "code",
      "source": [
        "print(str2.isalnum()) #since it has punctuation"
      ],
      "metadata": {
        "colab": {
          "base_uri": "https://localhost:8080/"
        },
        "id": "CL9Jda8DNq0g",
        "outputId": "44b684c7-8805-41d8-8af6-ee490dcb29b4"
      },
      "execution_count": 45,
      "outputs": [
        {
          "output_type": "stream",
          "name": "stdout",
          "text": [
            "False\n"
          ]
        }
      ]
    },
    {
      "cell_type": "code",
      "source": [
        "o='jjdebceiwuhd9u'\n",
        "print(o.isalnum())"
      ],
      "metadata": {
        "colab": {
          "base_uri": "https://localhost:8080/"
        },
        "id": "bROvIY2LWr2E",
        "outputId": "409f6a3a-3fa2-4662-e241-bb3b385acf68"
      },
      "execution_count": 46,
      "outputs": [
        {
          "output_type": "stream",
          "name": "stdout",
          "text": [
            "True\n"
          ]
        }
      ]
    },
    {
      "cell_type": "code",
      "source": [
        "print(str2.islower())"
      ],
      "metadata": {
        "colab": {
          "base_uri": "https://localhost:8080/"
        },
        "id": "OCWChHZVWsAc",
        "outputId": "0779fe37-10db-4fb2-ee87-3f866fe618b4"
      },
      "execution_count": 47,
      "outputs": [
        {
          "output_type": "stream",
          "name": "stdout",
          "text": [
            "True\n"
          ]
        }
      ]
    },
    {
      "cell_type": "code",
      "source": [
        "print(str2.isprintable())"
      ],
      "metadata": {
        "colab": {
          "base_uri": "https://localhost:8080/"
        },
        "id": "tsfxqPMxXCqQ",
        "outputId": "1488d81c-bdd9-4b9a-f9ff-b45edd35875e"
      },
      "execution_count": 48,
      "outputs": [
        {
          "output_type": "stream",
          "name": "stdout",
          "text": [
            "True\n"
          ]
        }
      ]
    },
    {
      "cell_type": "code",
      "source": [
        "o='jjdebceiwuhd9u\\n'\n",
        "print(o.isprintable()) # because of \\n"
      ],
      "metadata": {
        "colab": {
          "base_uri": "https://localhost:8080/"
        },
        "id": "NsmLtvLSXQ6Q",
        "outputId": "c2a1cb13-ee5d-4f1e-d1fd-74d37aef2c9e"
      },
      "execution_count": 49,
      "outputs": [
        {
          "output_type": "stream",
          "name": "stdout",
          "text": [
            "False\n"
          ]
        }
      ]
    },
    {
      "cell_type": "code",
      "source": [
        "h='         '\n",
        "print(h.isspace())"
      ],
      "metadata": {
        "colab": {
          "base_uri": "https://localhost:8080/"
        },
        "id": "VtEYNlkgXcgR",
        "outputId": "2b4e0712-b8ec-40de-aaf5-a7df2e3d8439"
      },
      "execution_count": 51,
      "outputs": [
        {
          "output_type": "stream",
          "name": "stdout",
          "text": [
            "True\n"
          ]
        }
      ]
    },
    {
      "cell_type": "code",
      "source": [
        "title = 'World HEALTH Organization'\n",
        "print(title.istitle())"
      ],
      "metadata": {
        "colab": {
          "base_uri": "https://localhost:8080/"
        },
        "id": "OSjyfHL5XuBv",
        "outputId": "91cf478f-66d3-40d2-edf8-4029df97847b"
      },
      "execution_count": 52,
      "outputs": [
        {
          "output_type": "stream",
          "name": "stdout",
          "text": [
            "False\n"
          ]
        }
      ]
    },
    {
      "cell_type": "markdown",
      "source": [
        "only if the firstt letter of each word id capital"
      ],
      "metadata": {
        "id": "ZePRnu96YGb6"
      }
    },
    {
      "cell_type": "code",
      "source": [
        "title = 'World Health Organization'\n",
        "print(title.istitle())"
      ],
      "metadata": {
        "colab": {
          "base_uri": "https://localhost:8080/"
        },
        "id": "WQjIjtcnX_nv",
        "outputId": "3889a960-9e15-4c40-a48a-5533ed5c9643"
      },
      "execution_count": 53,
      "outputs": [
        {
          "output_type": "stream",
          "name": "stdout",
          "text": [
            "True\n"
          ]
        }
      ]
    },
    {
      "cell_type": "code",
      "source": [
        "print(str2.startswith('this'))"
      ],
      "metadata": {
        "colab": {
          "base_uri": "https://localhost:8080/"
        },
        "id": "1Msz6UVFYW_6",
        "outputId": "dacda97b-5b2b-45a4-b25a-9caa7f145037"
      },
      "execution_count": 55,
      "outputs": [
        {
          "output_type": "stream",
          "name": "stdout",
          "text": [
            "True\n"
          ]
        }
      ]
    },
    {
      "cell_type": "code",
      "source": [
        "print(title.swapcase())"
      ],
      "metadata": {
        "colab": {
          "base_uri": "https://localhost:8080/"
        },
        "id": "qpXjm3B_YXej",
        "outputId": "c5747f2b-3530-46ae-d587-95e87814e23c"
      },
      "execution_count": 57,
      "outputs": [
        {
          "output_type": "stream",
          "name": "stdout",
          "text": [
            "wORLD hEALTH oRGANIZATION\n"
          ]
        }
      ]
    },
    {
      "cell_type": "code",
      "source": [
        "print(str2.title())"
      ],
      "metadata": {
        "colab": {
          "base_uri": "https://localhost:8080/"
        },
        "id": "_P0FT9E2YzL1",
        "outputId": "92be066d-c3c2-4da3-b017-e28bbb5b89af"
      },
      "execution_count": 59,
      "outputs": [
        {
          "output_type": "stream",
          "name": "stdout",
          "text": [
            "This Is An Apple. This Is Lying Down Here Since Tomorrow\n"
          ]
        }
      ]
    }
  ]
}