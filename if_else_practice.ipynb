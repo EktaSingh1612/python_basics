{
  "nbformat": 4,
  "nbformat_minor": 0,
  "metadata": {
    "colab": {
      "provenance": []
    },
    "kernelspec": {
      "name": "python3",
      "display_name": "Python 3"
    },
    "language_info": {
      "name": "python"
    }
  },
  "cells": [
    {
      "cell_type": "code",
      "source": [
        "import time\n",
        "\n",
        "timestamp = time.strftime('%H:%M:%S')\n",
        "print(timestamp)"
      ],
      "metadata": {
        "colab": {
          "base_uri": "https://localhost:8080/"
        },
        "id": "wjKYf0kThaFI",
        "outputId": "f42d0816-99ca-4f0c-8f27-0e2de7b46956"
      },
      "execution_count": 70,
      "outputs": [
        {
          "output_type": "stream",
          "name": "stdout",
          "text": [
            "06:44:05\n"
          ]
        }
      ]
    },
    {
      "cell_type": "code",
      "source": [
        "hour = time.strftime('%H')\n",
        "print(hour)"
      ],
      "metadata": {
        "colab": {
          "base_uri": "https://localhost:8080/"
        },
        "id": "Ok5sVCGmiLBT",
        "outputId": "65339615-fdc4-4ef0-9883-53f757e91b7e"
      },
      "execution_count": 72,
      "outputs": [
        {
          "output_type": "stream",
          "name": "stdout",
          "text": [
            "06\n"
          ]
        }
      ]
    },
    {
      "cell_type": "code",
      "source": [
        "if (hour<11 and hour>6):\n",
        "  print('good morning')\n",
        "elif (hour>11 and hour <5):\n",
        "  print('good agternoon')\n",
        "else:\n",
        "  print('good evening')"
      ],
      "metadata": {
        "colab": {
          "base_uri": "https://localhost:8080/",
          "height": 232
        },
        "id": "TFpT9FDohrBO",
        "outputId": "e7f85f4b-98fc-4e74-c36c-8c3b54f04f68"
      },
      "execution_count": 73,
      "outputs": [
        {
          "output_type": "error",
          "ename": "TypeError",
          "evalue": "ignored",
          "traceback": [
            "\u001b[0;31m---------------------------------------------------------------------------\u001b[0m",
            "\u001b[0;31mTypeError\u001b[0m                                 Traceback (most recent call last)",
            "\u001b[0;32m<ipython-input-73-b21a3da58540>\u001b[0m in \u001b[0;36m<module>\u001b[0;34m\u001b[0m\n\u001b[0;32m----> 1\u001b[0;31m \u001b[0;32mif\u001b[0m \u001b[0;34m(\u001b[0m\u001b[0mhour\u001b[0m\u001b[0;34m<\u001b[0m\u001b[0;36m11\u001b[0m \u001b[0;32mand\u001b[0m \u001b[0mhour\u001b[0m\u001b[0;34m>\u001b[0m\u001b[0;36m6\u001b[0m\u001b[0;34m)\u001b[0m\u001b[0;34m:\u001b[0m\u001b[0;34m\u001b[0m\u001b[0;34m\u001b[0m\u001b[0m\n\u001b[0m\u001b[1;32m      2\u001b[0m   \u001b[0mprint\u001b[0m\u001b[0;34m(\u001b[0m\u001b[0;34m'good morning'\u001b[0m\u001b[0;34m)\u001b[0m\u001b[0;34m\u001b[0m\u001b[0;34m\u001b[0m\u001b[0m\n\u001b[1;32m      3\u001b[0m \u001b[0;32melif\u001b[0m \u001b[0;34m(\u001b[0m\u001b[0mhour\u001b[0m\u001b[0;34m>\u001b[0m\u001b[0;36m11\u001b[0m \u001b[0;32mand\u001b[0m \u001b[0mhour\u001b[0m \u001b[0;34m<\u001b[0m\u001b[0;36m5\u001b[0m\u001b[0;34m)\u001b[0m\u001b[0;34m:\u001b[0m\u001b[0;34m\u001b[0m\u001b[0;34m\u001b[0m\u001b[0m\n\u001b[1;32m      4\u001b[0m   \u001b[0mprint\u001b[0m\u001b[0;34m(\u001b[0m\u001b[0;34m'good agternoon'\u001b[0m\u001b[0;34m)\u001b[0m\u001b[0;34m\u001b[0m\u001b[0;34m\u001b[0m\u001b[0m\n\u001b[1;32m      5\u001b[0m \u001b[0;32melse\u001b[0m\u001b[0;34m:\u001b[0m\u001b[0;34m\u001b[0m\u001b[0;34m\u001b[0m\u001b[0m\n",
            "\u001b[0;31mTypeError\u001b[0m: '<' not supported between instances of 'str' and 'int'"
          ]
        }
      ]
    },
    {
      "cell_type": "code",
      "source": [
        "hour = int(time.strftime('%H'))\n",
        "print(hour)"
      ],
      "metadata": {
        "colab": {
          "base_uri": "https://localhost:8080/"
        },
        "id": "g0uM2da3hrLW",
        "outputId": "15bbcc3a-c8bd-4ae3-e654-c3028650a207"
      },
      "execution_count": 74,
      "outputs": [
        {
          "output_type": "stream",
          "name": "stdout",
          "text": [
            "6\n"
          ]
        }
      ]
    },
    {
      "cell_type": "code",
      "source": [
        "if (hour<11 and hour>=6):\n",
        "  print('good morning')\n",
        "elif (hour>11 and hour <17):\n",
        "  print('good afternoon')\n",
        "elif (hour > 17 and hour < 20):\n",
        "  print('good evening')\n",
        "else:\n",
        "  print('good night')"
      ],
      "metadata": {
        "colab": {
          "base_uri": "https://localhost:8080/"
        },
        "id": "Z3mVguo-jMQn",
        "outputId": "37acf033-6747-4f36-91b1-af99c791ff8e"
      },
      "execution_count": 77,
      "outputs": [
        {
          "output_type": "stream",
          "name": "stdout",
          "text": [
            "good morning\n"
          ]
        }
      ]
    }
  ]
}