{
  "nbformat": 4,
  "nbformat_minor": 0,
  "metadata": {
    "colab": {
      "provenance": []
    },
    "kernelspec": {
      "name": "python3",
      "display_name": "Python 3"
    },
    "language_info": {
      "name": "python"
    }
  },
  "cells": [
    {
      "cell_type": "markdown",
      "source": [
        "# Python functions\n",
        "\n",
        "A function is a block of code that performs a specific task whenever it is called. \n",
        "\n",
        "In bigger programs, where we have large amounts of code it is advisable to create or use existing functions that make the program flow organised and neat.\n",
        "\n",
        "2 types of functions:\n",
        "\n",
        "1. built-in\n",
        "\n",
        "> pre-coded in python\n",
        "e.g, min(),max(),sum(),len(),type(),range(),dict(),list(),tuple(),set(),print(),etc.\n",
        "\n",
        "2. user defined\n",
        "\n",
        "> we can create functions to perform specific tasks as per our needs"
      ],
      "metadata": {
        "id": "oZp0Df_qb9nb"
      }
    },
    {
      "cell_type": "code",
      "execution_count": 1,
      "metadata": {
        "colab": {
          "base_uri": "https://localhost:8080/"
        },
        "id": "ZijP41WybY_r",
        "outputId": "d8485f91-73ad-47a6-de94-d0a5c206b619"
      },
      "outputs": [
        {
          "output_type": "stream",
          "name": "stdout",
          "text": [
            "4.235294117647059\n"
          ]
        }
      ],
      "source": [
        "a=9\n",
        "b=8\n",
        "geometric_mean=(a*b)/(a+b)\n",
        "print(geometric_mean)"
      ]
    },
    {
      "cell_type": "code",
      "source": [
        "a=9\n",
        "b=8\n",
        "geometric_mean1=(a*b)/(a+b)\n",
        "print(geometric_mean1)\n",
        "\n",
        "c=18\n",
        "d=13\n",
        "geometric_mean2=(c*d)/(c+d)\n",
        "print(geometric_mean2)"
      ],
      "metadata": {
        "colab": {
          "base_uri": "https://localhost:8080/"
        },
        "id": "saX5oVb7ecpJ",
        "outputId": "471f1135-9958-418e-c383-32ad6e21138a"
      },
      "execution_count": 2,
      "outputs": [
        {
          "output_type": "stream",
          "name": "stdout",
          "text": [
            "4.235294117647059\n",
            "7.548387096774194\n"
          ]
        }
      ]
    },
    {
      "cell_type": "markdown",
      "source": [
        "# Instead of doing all of this"
      ],
      "metadata": {
        "id": "ufFiIyGyeu3j"
      }
    },
    {
      "cell_type": "code",
      "source": [
        "def function_name(parameters):\n",
        "  pass"
      ],
      "metadata": {
        "id": "xezzeuIcnbUJ"
      },
      "execution_count": null,
      "outputs": []
    },
    {
      "cell_type": "code",
      "source": [
        "def calculate_gmean(a,b):\n",
        "  mean=(a*b)/(a+b)\n",
        "  print(mean)\n",
        "\n",
        "calculate_gmean(9,8)\n",
        "calculate_gmean(18,13)"
      ],
      "metadata": {
        "colab": {
          "base_uri": "https://localhost:8080/"
        },
        "id": "pM4nBU7UetVJ",
        "outputId": "e7672ac7-4e4d-4072-a24b-a3189165efcf"
      },
      "execution_count": 3,
      "outputs": [
        {
          "output_type": "stream",
          "name": "stdout",
          "text": [
            "4.235294117647059\n",
            "7.548387096774194\n"
          ]
        }
      ]
    },
    {
      "cell_type": "markdown",
      "source": [
        "## Similarly"
      ],
      "metadata": {
        "id": "WgFMJo_Ffu_O"
      }
    },
    {
      "cell_type": "code",
      "source": [
        "a=9\n",
        "b=8\n",
        "geometric_mean1=(a*b)/(a+b)\n",
        "print(geometric_mean1)\n",
        "if (a>b):\n",
        "  print('First no is greater')\n",
        "else:\n",
        "  print('second no. is greater or equal')\n",
        "\n",
        "c=13\n",
        "d=18\n",
        "geometric_mean2=(c*d)/(c+d)\n",
        "print(geometric_mean2)\n",
        "if (c>d):\n",
        "  print('First no is greater')\n",
        "else:\n",
        "  print('second no. is greater or equal')"
      ],
      "metadata": {
        "colab": {
          "base_uri": "https://localhost:8080/"
        },
        "id": "5rATOaxxetjs",
        "outputId": "055dfd8c-9628-421f-ce71-184db31e6719"
      },
      "execution_count": 4,
      "outputs": [
        {
          "output_type": "stream",
          "name": "stdout",
          "text": [
            "4.235294117647059\n",
            "First no is greater\n",
            "7.548387096774194\n",
            "second no. is greater or equal\n"
          ]
        }
      ]
    },
    {
      "cell_type": "code",
      "source": [
        "def calculate_gmean(a,b):\n",
        "  mean=(a*b)/(a+b)\n",
        "  print(mean)\n",
        "def isgreater(a,b):\n",
        "  if (a>b):\n",
        "    print('First no is greater')\n",
        "  else:\n",
        "    print('second no. is greater or equal')\n",
        "def islesser(a,b):\n",
        "  pass\n",
        "\n",
        "a=9\n",
        "b=8\n",
        "c=13\n",
        "d=18\n",
        "calculate_gmean(a,b)\n",
        "calculate_gmean(c,d)\n",
        "\n",
        "isgreater(a,b)\n",
        "isgreater(c,d)"
      ],
      "metadata": {
        "colab": {
          "base_uri": "https://localhost:8080/"
        },
        "id": "pzuMv9-UetnL",
        "outputId": "767ea05a-4dde-4bcf-b1dd-953daccf412d"
      },
      "execution_count": 5,
      "outputs": [
        {
          "output_type": "stream",
          "name": "stdout",
          "text": [
            "4.235294117647059\n",
            "7.548387096774194\n",
            "First no is greater\n",
            "second no. is greater or equal\n"
          ]
        }
      ]
    },
    {
      "cell_type": "markdown",
      "source": [
        "## Function arguments and return statement\n",
        "\n",
        "There are 4 types of arguments that we can provide in a function:\n",
        "\n",
        "- Default arguments\n",
        "- keyword arguments\n",
        "- variable length arguments\n",
        "- required arguments\n",
        "\n",
        "### Default argument\n",
        "\n",
        "We can provide a default value while creating a function. This way the function assumes a default value even if a value is not provided in the function call for arguments.\n"
      ],
      "metadata": {
        "id": "iYTbRrSkn7aF"
      }
    },
    {
      "cell_type": "code",
      "source": [
        "def name(fname, mname='prasad', lname='yadav'):\n",
        "  print('Hello,', fname,mname, lname)\n",
        "\n",
        "name('Lalu')"
      ],
      "metadata": {
        "id": "KwyRayuLetqy",
        "colab": {
          "base_uri": "https://localhost:8080/"
        },
        "outputId": "350f9a82-1472-4b45-a3ee-a497522153f5"
      },
      "execution_count": 6,
      "outputs": [
        {
          "output_type": "stream",
          "name": "stdout",
          "text": [
            "Hello Lalu prasad yadav\n"
          ]
        }
      ]
    },
    {
      "cell_type": "markdown",
      "source": [
        "### Keyword arguments\n",
        "\n",
        "We can provide arguments with key=value, this way the interpreter recognizes the arguments by the parameter name. Hence, the order in which arguments are passed doesnot matter."
      ],
      "metadata": {
        "id": "jmSaRwv6qMjR"
      }
    },
    {
      "cell_type": "code",
      "source": [
        "def name(fname,mname,lname):\n",
        "  print('Hello,',fname,mname,lname)\n",
        "name(fname='surya',lname='yadav',mname='kumar')"
      ],
      "metadata": {
        "id": "1_p-bAD0ett-",
        "colab": {
          "base_uri": "https://localhost:8080/"
        },
        "outputId": "a923c425-3c82-46e4-826e-eb734eac23d2"
      },
      "execution_count": 7,
      "outputs": [
        {
          "output_type": "stream",
          "name": "stdout",
          "text": [
            "Hello, surya kumar yadav\n"
          ]
        }
      ]
    },
    {
      "cell_type": "markdown",
      "source": [
        "### Required \n",
        "\n",
        "Incase we don't pass the arguments with key=value syntax, then it is necessary to pass the arguments in the correct positional order and the number of arguments passed should match with actual function definition.\n",
        "\n",
        "Example 1: when number of arguments passed does not match to the actual function definition."
      ],
      "metadata": {
        "id": "WWDCV8ForQUy"
      }
    },
    {
      "cell_type": "code",
      "source": [
        "def name(fname,mname,lname):\n",
        "  print('Hello,',fname,mname,lname)\n",
        "name('surya','kumar')"
      ],
      "metadata": {
        "colab": {
          "base_uri": "https://localhost:8080/",
          "height": 198
        },
        "id": "iJC-vuSDrQzD",
        "outputId": "470e66a4-475f-45bc-b969-c676a5551e32"
      },
      "execution_count": 8,
      "outputs": [
        {
          "output_type": "error",
          "ename": "TypeError",
          "evalue": "ignored",
          "traceback": [
            "\u001b[0;31m---------------------------------------------------------------------------\u001b[0m",
            "\u001b[0;31mTypeError\u001b[0m                                 Traceback (most recent call last)",
            "\u001b[0;32m<ipython-input-8-85ee41b4c707>\u001b[0m in \u001b[0;36m<module>\u001b[0;34m\u001b[0m\n\u001b[1;32m      1\u001b[0m \u001b[0;32mdef\u001b[0m \u001b[0mname\u001b[0m\u001b[0;34m(\u001b[0m\u001b[0mfname\u001b[0m\u001b[0;34m,\u001b[0m\u001b[0mmname\u001b[0m\u001b[0;34m,\u001b[0m\u001b[0mlname\u001b[0m\u001b[0;34m)\u001b[0m\u001b[0;34m:\u001b[0m\u001b[0;34m\u001b[0m\u001b[0;34m\u001b[0m\u001b[0m\n\u001b[1;32m      2\u001b[0m   \u001b[0mprint\u001b[0m\u001b[0;34m(\u001b[0m\u001b[0;34m'Hello,'\u001b[0m\u001b[0;34m,\u001b[0m\u001b[0mfname\u001b[0m\u001b[0;34m,\u001b[0m\u001b[0mmname\u001b[0m\u001b[0;34m,\u001b[0m\u001b[0mlname\u001b[0m\u001b[0;34m)\u001b[0m\u001b[0;34m\u001b[0m\u001b[0;34m\u001b[0m\u001b[0m\n\u001b[0;32m----> 3\u001b[0;31m \u001b[0mname\u001b[0m\u001b[0;34m(\u001b[0m\u001b[0;34m'surya'\u001b[0m\u001b[0;34m,\u001b[0m\u001b[0;34m'kumar'\u001b[0m\u001b[0;34m)\u001b[0m\u001b[0;34m\u001b[0m\u001b[0;34m\u001b[0m\u001b[0m\n\u001b[0m",
            "\u001b[0;31mTypeError\u001b[0m: name() missing 1 required positional argument: 'lname'"
          ]
        }
      ]
    },
    {
      "cell_type": "code",
      "source": [
        "def name(fname,mname,lname):\n",
        "  print('Hello,',fname,mname,lname)\n",
        "name('surya','kumar','yadav')"
      ],
      "metadata": {
        "colab": {
          "base_uri": "https://localhost:8080/"
        },
        "id": "stp8jUxerQ14",
        "outputId": "9fde3d82-92ec-4e42-d9d8-7926a39d62e4"
      },
      "execution_count": 9,
      "outputs": [
        {
          "output_type": "stream",
          "name": "stdout",
          "text": [
            "Hello, surya kumar yadav\n"
          ]
        }
      ]
    },
    {
      "cell_type": "markdown",
      "source": [
        "### Variable-length arguments:\n",
        "\n",
        "Sometimes we may need to pass more arguments than those defined in the actual function. This can be done using variable-length arguments.\n",
        "\n",
        "There are two ways to achieve this:\n",
        "\n",
        "1. Arbitrary Arguments:\n",
        "\n",
        "> While creating a function, pass a * before the parameter name while defining the function. The function accesses the arguments by processing them in the form of tuple.\n",
        "\n"
      ],
      "metadata": {
        "id": "nSW_4BJhs_Ef"
      }
    },
    {
      "cell_type": "code",
      "source": [
        "def average(*numbers):\n",
        "  print(type(numbers))\n",
        "  sum=0\n",
        "  for i in numbers:\n",
        "    sum=sum+i\n",
        "  print('Average is:', sum/len(numbers))\n",
        "average(5,6)\n",
        "average(3,8,9,6)"
      ],
      "metadata": {
        "colab": {
          "base_uri": "https://localhost:8080/"
        },
        "id": "9kI2q1__rQ5T",
        "outputId": "437e7fc4-ea51-445c-cc25-e33dd6bff2e4"
      },
      "execution_count": 13,
      "outputs": [
        {
          "output_type": "stream",
          "name": "stdout",
          "text": [
            "<class 'tuple'>\n",
            "Average is: 5.5\n",
            "<class 'tuple'>\n",
            "Average is: 6.5\n"
          ]
        }
      ]
    },
    {
      "cell_type": "code",
      "source": [
        "def name(*name):\n",
        "    print(\"Hello,\", name[0], name[1], name[2])\n",
        "\n",
        "name(\"James\", \"Buchanan\", \"Barnes\")"
      ],
      "metadata": {
        "colab": {
          "base_uri": "https://localhost:8080/"
        },
        "id": "v4s8S2p_upor",
        "outputId": "21adab49-36c1-42cc-ec8c-697dfbaf66bd"
      },
      "execution_count": 14,
      "outputs": [
        {
          "output_type": "stream",
          "name": "stdout",
          "text": [
            "Hello, James Buchanan Barnes\n"
          ]
        }
      ]
    },
    {
      "cell_type": "markdown",
      "source": [
        "### Keyword Arbitrary Arguments:\n",
        "\n",
        "While creating a function, pass a * before the parameter name while defining the function. The function accesses the arguments by processing them in the form of dictionary."
      ],
      "metadata": {
        "id": "_kuAL-Sru2-I"
      }
    },
    {
      "cell_type": "code",
      "source": [
        "def name(**name):\n",
        "  print(type(name))\n",
        "  print(\"Hello,\", name['fname'], name['mname'], name['lname'])\n",
        "\n",
        "name(fname=\"James\",lname= \"Buchanan\",mname= \"Barnes\")"
      ],
      "metadata": {
        "colab": {
          "base_uri": "https://localhost:8080/"
        },
        "id": "Gdu4e-Jrupr4",
        "outputId": "44eb75d3-c6aa-4a27-e083-98f66b8e5cd5"
      },
      "execution_count": 18,
      "outputs": [
        {
          "output_type": "stream",
          "name": "stdout",
          "text": [
            "<class 'dict'>\n",
            "Hello, James Barnes Buchanan\n"
          ]
        }
      ]
    },
    {
      "cell_type": "markdown",
      "source": [
        "## return Statement\n",
        "\n",
        "The return statement is used to return the value of the expression back to the calling function."
      ],
      "metadata": {
        "id": "zH54VYvYv57Z"
      }
    },
    {
      "cell_type": "code",
      "source": [
        "def average(*numbers):\n",
        "  print(type(numbers))\n",
        "  sum=0\n",
        "  for i in numbers:\n",
        "    sum=sum+i\n",
        "  return sum/len(numbers)\n",
        "\n",
        "c=average(3,8,9,6)\n",
        "c"
      ],
      "metadata": {
        "colab": {
          "base_uri": "https://localhost:8080/"
        },
        "id": "M8HCnxZrupyk",
        "outputId": "25ee38d9-01e7-4965-9cca-45f43de21a48"
      },
      "execution_count": 19,
      "outputs": [
        {
          "output_type": "stream",
          "name": "stdout",
          "text": [
            "<class 'tuple'>\n"
          ]
        },
        {
          "output_type": "execute_result",
          "data": {
            "text/plain": [
              "6.5"
            ]
          },
          "metadata": {},
          "execution_count": 19
        }
      ]
    }
  ]
}