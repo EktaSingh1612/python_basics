{
  "nbformat": 4,
  "nbformat_minor": 0,
  "metadata": {
    "colab": {
      "provenance": []
    },
    "kernelspec": {
      "name": "python3",
      "display_name": "Python 3"
    },
    "language_info": {
      "name": "python"
    }
  },
  "cells": [
    {
      "cell_type": "markdown",
      "source": [
        "# Taking user input in python\n",
        "\n",
        "variable = input() \n",
        "\n",
        "this input function returns the value as string, hence we need to typecast it whenever required.\n",
        "\n",
        "eg. \n",
        "\n",
        "variable = int(input())\n",
        "\n",
        "variable = float(input())"
      ],
      "metadata": {
        "id": "KdM_oHai9n9u"
      }
    },
    {
      "cell_type": "code",
      "execution_count": 1,
      "metadata": {
        "colab": {
          "base_uri": "https://localhost:8080/"
        },
        "id": "sg_p1TBd9kl2",
        "outputId": "5dba5568-1163-4595-abe4-eab2eb137324"
      },
      "outputs": [
        {
          "output_type": "stream",
          "name": "stdout",
          "text": [
            "Enter your name: ekta\n",
            "My name is  ekta\n"
          ]
        }
      ],
      "source": [
        "a=input('Enter your name: ')\n",
        "print('My name is ', a)"
      ]
    },
    {
      "cell_type": "code",
      "source": [
        "x = input('enter 1st no.: ')\n",
        "y = input('enter 2nd no.: ')\n",
        "print(x+y)"
      ],
      "metadata": {
        "colab": {
          "base_uri": "https://localhost:8080/"
        },
        "id": "jCTqSyRj-EWa",
        "outputId": "ddae8b2d-511b-4639-dc7c-c84b28c318ac"
      },
      "execution_count": 2,
      "outputs": [
        {
          "output_type": "stream",
          "name": "stdout",
          "text": [
            "enter 1st no.: 12\n",
            "enter 2nd no.: 15\n",
            "1215\n"
          ]
        }
      ]
    },
    {
      "cell_type": "code",
      "source": [
        "x = int(input('enter 1st no.: '))\n",
        "y = int(input('enter 2nd no.: '))\n",
        "print(x+y)"
      ],
      "metadata": {
        "colab": {
          "base_uri": "https://localhost:8080/"
        },
        "id": "Jpf8WXLR-EZR",
        "outputId": "fc5612a2-226b-4a58-fba2-8c7db87782ce"
      },
      "execution_count": 3,
      "outputs": [
        {
          "output_type": "stream",
          "name": "stdout",
          "text": [
            "enter 1st no.: 12\n",
            "enter 2nd no.: 15\n",
            "27\n"
          ]
        }
      ]
    },
    {
      "cell_type": "markdown",
      "source": [
        "# OR"
      ],
      "metadata": {
        "id": "XfNGUyOp-Z62"
      }
    },
    {
      "cell_type": "code",
      "source": [
        "x = input('enter 1st no.: ')\n",
        "y = input('enter 2nd no.: ')\n",
        "print(int(x)+int(y))"
      ],
      "metadata": {
        "colab": {
          "base_uri": "https://localhost:8080/"
        },
        "id": "4Fie5PN_-Q98",
        "outputId": "7cd8dc07-4a18-4c44-ec0e-f39692167340"
      },
      "execution_count": 4,
      "outputs": [
        {
          "output_type": "stream",
          "name": "stdout",
          "text": [
            "enter 1st no.: 12\n",
            "enter 2nd no.: 15\n",
            "27\n"
          ]
        }
      ]
    },
    {
      "cell_type": "code",
      "source": [
        "x = float(input('enter 1st no.: '))\n",
        "y = float(input('enter 2nd no.: '))1\n",
        "print(x+y)"
      ],
      "metadata": {
        "colab": {
          "base_uri": "https://localhost:8080/"
        },
        "id": "pQ7WE4Kw-RKt",
        "outputId": "a3392a32-9445-4fd9-9140-61fb37dafe10"
      },
      "execution_count": 5,
      "outputs": [
        {
          "output_type": "stream",
          "name": "stdout",
          "text": [
            "enter 1st no.: 12\n",
            "enter 2nd no.: 5\n",
            "17.0\n"
          ]
        }
      ]
    }
  ]
}