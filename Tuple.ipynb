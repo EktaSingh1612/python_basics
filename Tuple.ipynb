{
  "nbformat": 4,
  "nbformat_minor": 0,
  "metadata": {
    "colab": {
      "provenance": []
    },
    "kernelspec": {
      "name": "python3",
      "display_name": "Python 3"
    },
    "language_info": {
      "name": "python"
    }
  },
  "cells": [
    {
      "cell_type": "markdown",
      "source": [
        "# Python Tuples\n",
        "\n",
        "Tuples are ordered collection of data items. They store multiple items in a single variable. Tuple items are separated by commas and enclosed within round brackets (). Tuples are unchangeable meaning we can not alter them after creation.\n",
        "\n",
        "Example 1:"
      ],
      "metadata": {
        "id": "RYqemgII-URL"
      }
    },
    {
      "cell_type": "code",
      "source": [
        "tuple1 = (1,2,2,3,5,4,6)\n",
        "tuple2 = (\"Red\", \"Green\", \"Blue\")\n",
        "print(tuple1,type(tuple1))\n",
        "print(tuple2)"
      ],
      "metadata": {
        "colab": {
          "base_uri": "https://localhost:8080/"
        },
        "id": "dkyM5qSs9z2R",
        "outputId": "5acf4131-19de-4a3c-e88f-8e91b1312576"
      },
      "execution_count": 2,
      "outputs": [
        {
          "output_type": "stream",
          "name": "stdout",
          "text": [
            "(1, 2, 2, 3, 5, 4, 6) <class 'tuple'>\n",
            "('Red', 'Green', 'Blue')\n"
          ]
        }
      ]
    },
    {
      "cell_type": "code",
      "source": [
        "details = (\"Abhijeet\", 18, \"FYBScIT\", 9.8)\n",
        "print(details)"
      ],
      "metadata": {
        "colab": {
          "base_uri": "https://localhost:8080/"
        },
        "id": "qS_hAoRp9z79",
        "outputId": "1848bf53-06bd-4d1f-826c-e63a921d0565"
      },
      "execution_count": 3,
      "outputs": [
        {
          "output_type": "stream",
          "name": "stdout",
          "text": [
            "('Abhijeet', 18, 'FYBScIT', 9.8)\n"
          ]
        }
      ]
    },
    {
      "cell_type": "markdown",
      "source": [
        "## Tuple Indexes\n",
        "\n",
        "Each item/element in a tuple has its own unique index. This index can be used to access any particular item from the tuple. The first item has index [0], second item has index [1], third item has index [2] and so on.\n",
        "\n",
        "Example:"
      ],
      "metadata": {
        "id": "Ad2Ahb-t-iO4"
      }
    },
    {
      "cell_type": "code",
      "source": [
        "country = (\"Spain\", \"Italy\", \"India\",)\n",
        "#            [0]      [1]      [2]"
      ],
      "metadata": {
        "id": "cSEuGWCQ9z-u"
      },
      "execution_count": 4,
      "outputs": []
    },
    {
      "cell_type": "markdown",
      "source": [
        "Accessing tuple items:\n",
        "\n",
        "I. Positive Indexing:\n",
        "\n",
        "As we have seen that tuple items have index, as such we can access items using these indexes.\n",
        "\n",
        "Example:"
      ],
      "metadata": {
        "id": "rOpiv_FT-qwK"
      }
    },
    {
      "cell_type": "code",
      "source": [
        "country = (\"Spain\", \"Italy\", \"India\",)\n",
        "#            [0]      [1]      [2]     \n",
        "print(country[0])\n",
        "print(country[1])\n",
        "print(country[2])"
      ],
      "metadata": {
        "colab": {
          "base_uri": "https://localhost:8080/"
        },
        "id": "u6BrXnqb90CZ",
        "outputId": "0fed031d-89f4-463c-9fdd-e65911f2f685"
      },
      "execution_count": 5,
      "outputs": [
        {
          "output_type": "stream",
          "name": "stdout",
          "text": [
            "Spain\n",
            "Italy\n",
            "India\n"
          ]
        }
      ]
    },
    {
      "cell_type": "markdown",
      "source": [
        "II. Negative Indexing:\n",
        "\n",
        "Similar to positive indexing, negative indexing is also used to access items, but from the end of the tuple. The last item has index [-1], second last item has index [-2], third last item has index [-3] and so on.\n",
        "\n",
        "Example:"
      ],
      "metadata": {
        "id": "i4cIxIGe-yTj"
      }
    },
    {
      "cell_type": "code",
      "source": [
        "country = (\"Spain\", \"Italy\", \"India\", \"England\", \"Germany\")\n",
        "#            [0]      [1]      [2]       [3]        [4]\n",
        "print(country[-1]) # Similar to print(country[len(country) - 1])\n",
        "print(country[-3])\n",
        "print(country[-4])"
      ],
      "metadata": {
        "colab": {
          "base_uri": "https://localhost:8080/"
        },
        "id": "VQvIvppo90Fx",
        "outputId": "a2dd5e16-1620-4749-b281-fb0b727cdf5b"
      },
      "execution_count": 6,
      "outputs": [
        {
          "output_type": "stream",
          "name": "stdout",
          "text": [
            "Germany\n",
            "India\n",
            "Italy\n"
          ]
        }
      ]
    },
    {
      "cell_type": "markdown",
      "source": [
        "III. Check for item:\n",
        "\n",
        "We can check if a given item is present in the tuple. This is done using the in keyword.\n",
        "\n",
        "Example 1:"
      ],
      "metadata": {
        "id": "Huk5XQte-5lx"
      }
    },
    {
      "cell_type": "code",
      "source": [
        "country = (\"Spain\", \"Italy\", \"India\", \"England\", \"Germany\")\n",
        "if \"Germany\" in country:\n",
        "    print(\"Germany is present.\")\n",
        "else:\n",
        "    print(\"Germany is absent.\")"
      ],
      "metadata": {
        "colab": {
          "base_uri": "https://localhost:8080/"
        },
        "id": "mnwlz0H1-8AP",
        "outputId": "afed3df9-eee2-477c-b74d-e94788e6e50b"
      },
      "execution_count": 7,
      "outputs": [
        {
          "output_type": "stream",
          "name": "stdout",
          "text": [
            "Germany is present.\n"
          ]
        }
      ]
    },
    {
      "cell_type": "code",
      "source": [
        "country = (\"Spain\", \"Italy\", \"India\", \"England\", \"Germany\")\n",
        "if \"Russia\" in country:\n",
        "    print(\"Russia is present.\")\n",
        "else:\n",
        "    print(\"Russia is absent.\")"
      ],
      "metadata": {
        "colab": {
          "base_uri": "https://localhost:8080/"
        },
        "id": "ZdNmJSDV-_X2",
        "outputId": "dff0be61-9d7b-45ea-e940-a5c9f604af46"
      },
      "execution_count": 8,
      "outputs": [
        {
          "output_type": "stream",
          "name": "stdout",
          "text": [
            "Russia is absent.\n"
          ]
        }
      ]
    },
    {
      "cell_type": "markdown",
      "source": [
        "IV. Range of Index:\n",
        "\n",
        "You can print a range of tuple items by specifying where do you want to start, where do you want to end and if you want to skip elements in between the range.\n",
        "\n",
        "Syntax:\n",
        "\n",
        "Tuple[start : end : jumpIndex]\n",
        "\n",
        "Note: jump Index is optional. We will see this in given examples.\n",
        "\n",
        "Example: Printing elements within a particular range:\n",
        "\n"
      ],
      "metadata": {
        "id": "LPsWxcjb_C6V"
      }
    },
    {
      "cell_type": "code",
      "source": [
        "animals = (\"cat\", \"dog\", \"bat\", \"mouse\", \"pig\", \"horse\", \"donkey\", \"goat\", \"cow\")\n",
        "print(animals[3:7])     #using positive indexes\n",
        "print(animals[-7:-2])   #using negative indexes"
      ],
      "metadata": {
        "colab": {
          "base_uri": "https://localhost:8080/"
        },
        "id": "SVuBelQB_M0E",
        "outputId": "887803b5-3b27-4b2b-fb4a-214619a5f086"
      },
      "execution_count": 9,
      "outputs": [
        {
          "output_type": "stream",
          "name": "stdout",
          "text": [
            "('mouse', 'pig', 'horse', 'donkey')\n",
            "('bat', 'mouse', 'pig', 'horse', 'donkey')\n"
          ]
        }
      ]
    },
    {
      "cell_type": "markdown",
      "source": [
        "Here, we provide index of the element from where we want to start and the index of the element till which we want to print the values. Note: The element of the end index provided will not be included.\n",
        "\n",
        "Example: Printing all element from a given index till the end"
      ],
      "metadata": {
        "id": "LioBrfQ2_Qar"
      }
    },
    {
      "cell_type": "code",
      "source": [
        "animals = (\"cat\", \"dog\", \"bat\", \"mouse\", \"pig\", \"horse\", \"donkey\", \"goat\", \"cow\")\n",
        "print(animals[4:])      #using positive indexes\n",
        "print(animals[-4:])     #using negative indexes"
      ],
      "metadata": {
        "colab": {
          "base_uri": "https://localhost:8080/"
        },
        "id": "EPVWecYI_UBG",
        "outputId": "a01e9d55-22e2-4d20-d2eb-ec9d9f3f1a48"
      },
      "execution_count": 10,
      "outputs": [
        {
          "output_type": "stream",
          "name": "stdout",
          "text": [
            "('pig', 'horse', 'donkey', 'goat', 'cow')\n",
            "('horse', 'donkey', 'goat', 'cow')\n"
          ]
        }
      ]
    },
    {
      "cell_type": "markdown",
      "source": [
        "When no end index is provided, the interpreter prints all the values till the end.\n",
        "\n",
        "Example: printing all elements from start to a given index\n",
        "\n"
      ],
      "metadata": {
        "id": "jUUGuxiH_ZOj"
      }
    },
    {
      "cell_type": "code",
      "source": [
        "animals = (\"cat\", \"dog\", \"bat\", \"mouse\", \"pig\", \"horse\", \"donkey\", \"goat\", \"cow\")\n",
        "print(animals[:6])      #using positive indexes\n",
        "print(animals[:-3])     #using negative indexes"
      ],
      "metadata": {
        "colab": {
          "base_uri": "https://localhost:8080/"
        },
        "id": "8joL1BhO_Ym-",
        "outputId": "04a89dfb-3d6d-4c06-f260-17d4f6b52d5c"
      },
      "execution_count": 11,
      "outputs": [
        {
          "output_type": "stream",
          "name": "stdout",
          "text": [
            "('cat', 'dog', 'bat', 'mouse', 'pig', 'horse')\n",
            "('cat', 'dog', 'bat', 'mouse', 'pig', 'horse')\n"
          ]
        }
      ]
    },
    {
      "cell_type": "markdown",
      "source": [
        "When no start index is provided, the interpreter prints all the values from start up to the end index provided.\n",
        "\n",
        "Example: Print alternate values\n",
        "\n"
      ],
      "metadata": {
        "id": "Rm5OyPdb_faC"
      }
    },
    {
      "cell_type": "code",
      "source": [
        "animals = (\"cat\", \"dog\", \"bat\", \"mouse\", \"pig\", \"horse\", \"donkey\", \"goat\", \"cow\")\n",
        "print(animals[::2])     #using positive indexes\n",
        "print(animals[-8:-1:2]) #using negative indexes"
      ],
      "metadata": {
        "colab": {
          "base_uri": "https://localhost:8080/"
        },
        "id": "uZ5zEagc_h4N",
        "outputId": "d2ea0b61-3092-43fd-ac7f-05a055276af9"
      },
      "execution_count": 12,
      "outputs": [
        {
          "output_type": "stream",
          "name": "stdout",
          "text": [
            "('cat', 'bat', 'pig', 'donkey', 'cow')\n",
            "('dog', 'mouse', 'horse', 'goat')\n"
          ]
        }
      ]
    },
    {
      "cell_type": "markdown",
      "source": [
        "animals = (\"cat\", \"dog\", \"bat\", \"mouse\", \"pig\", \"horse\", \"donkey\", \"goat\", \"cow\")\n",
        "print(animals[::2])     #using positive indexes\n",
        "print(animals[-8:-1:2]) #using negative indexes"
      ],
      "metadata": {
        "id": "-f82DcUQ_lNq"
      }
    },
    {
      "cell_type": "code",
      "source": [
        "animals = (\"cat\", \"dog\", \"bat\", \"mouse\", \"pig\", \"horse\", \"donkey\", \"goat\", \"cow\")\n",
        "print(animals[1:8:3])"
      ],
      "metadata": {
        "colab": {
          "base_uri": "https://localhost:8080/"
        },
        "id": "dufaPzc4_opS",
        "outputId": "1515b860-5cb2-483e-88b0-2b97d339a448"
      },
      "execution_count": 13,
      "outputs": [
        {
          "output_type": "stream",
          "name": "stdout",
          "text": [
            "('dog', 'pig', 'goat')\n"
          ]
        }
      ]
    },
    {
      "cell_type": "markdown",
      "source": [
        "## Manipulating Tuples\n",
        "\n",
        "Tuples are immutable, hence if you want to add, remove or change tuple items, then first you must convert the tuple to a list. Then perform operation on that list and convert it back to tuple.\n",
        "\n",
        "Example:"
      ],
      "metadata": {
        "id": "lqydHjgGNyZL"
      }
    },
    {
      "cell_type": "code",
      "source": [
        "countries = (\"Spain\", \"Italy\", \"India\", \"England\", \"Germany\")\n",
        "temp = list(countries)\n",
        "temp.append(\"Russia\")       #add item \n",
        "temp.pop(3)                 #remove item\n",
        "temp[2] = \"Finland\"         #change item\n",
        "countries = tuple(temp)\n",
        "print(countries)"
      ],
      "metadata": {
        "colab": {
          "base_uri": "https://localhost:8080/"
        },
        "id": "sz70-XwcN1pA",
        "outputId": "cf72d301-f489-4c35-c3e9-612141257a97"
      },
      "execution_count": 14,
      "outputs": [
        {
          "output_type": "stream",
          "name": "stdout",
          "text": [
            "('Spain', 'Italy', 'Finland', 'Germany', 'Russia')\n"
          ]
        }
      ]
    },
    {
      "cell_type": "markdown",
      "source": [
        "Thus, we convert the tuple to a list, manipulate items of the list using list methods, then convert list back to a tuple.\n",
        "\n",
        "However, we can directly concatenate two tuples without converting them to list.\n",
        "\n",
        "Example:"
      ],
      "metadata": {
        "id": "uAYbb83CN5qd"
      }
    },
    {
      "cell_type": "code",
      "source": [
        "countries = (\"Pakistan\", \"Afghanistan\", \"Bangladesh\", \"ShriLanka\")\n",
        "countries2 = (\"Vietnam\", \"India\", \"China\")\n",
        "southEastAsia = countries + countries2\n",
        "print(southEastAsia)"
      ],
      "metadata": {
        "colab": {
          "base_uri": "https://localhost:8080/"
        },
        "id": "utRdR0C9N8B1",
        "outputId": "d68d334c-0308-43c3-f946-acd70106370c"
      },
      "execution_count": 15,
      "outputs": [
        {
          "output_type": "stream",
          "name": "stdout",
          "text": [
            "('Pakistan', 'Afghanistan', 'Bangladesh', 'ShriLanka', 'Vietnam', 'India', 'China')\n"
          ]
        }
      ]
    },
    {
      "cell_type": "markdown",
      "source": [
        "## Tuple methods\n",
        "\n",
        "As tuple is immutable type of collection of elements it have limited built in methods.They are explained below\n",
        "\n",
        "### count() Method\n",
        "\n",
        "The count() method of Tuple returns the number of times the given element appears in the tuple.\n",
        "\n",
        "Syntax:\n",
        "\n",
        "tuple.count(element)"
      ],
      "metadata": {
        "id": "7XLLKmjhOB2K"
      }
    },
    {
      "cell_type": "code",
      "source": [
        "Tuple1 = (0, 1, 2, 3, 2, 3, 1, 3, 2)\n",
        "res = Tuple1.count(3)\n",
        "print('Count of 3 in Tuple1 is:', res)"
      ],
      "metadata": {
        "colab": {
          "base_uri": "https://localhost:8080/"
        },
        "id": "gIFMS4oCOJvo",
        "outputId": "f442b7b4-bf20-4dc9-c166-bc506b7e7c28"
      },
      "execution_count": 16,
      "outputs": [
        {
          "output_type": "stream",
          "name": "stdout",
          "text": [
            "Count of 3 in Tuple1 is: 3\n"
          ]
        }
      ]
    },
    {
      "cell_type": "markdown",
      "source": [
        "### index() method\n",
        "\n",
        "The Index() method returns the first occurrence of the given element from the tuple.\n",
        "\n",
        "Syntax:\n",
        "\n",
        "tuple.index(element, start, end)\n",
        "Note: This method raises a ValueError if the element is not found in the tuple.\n",
        "\n"
      ],
      "metadata": {
        "id": "ClbrU3HmOPnr"
      }
    },
    {
      "cell_type": "code",
      "source": [
        "Tuple = (0, 1, 2, 3, 2, 3, 1, 3, 2)\n",
        "res = Tuple.index(3)\n",
        "print('First occurrence of 3 is', res)"
      ],
      "metadata": {
        "colab": {
          "base_uri": "https://localhost:8080/"
        },
        "id": "eoy3HlwDOSvt",
        "outputId": "6dedf56a-1dbe-461e-e89c-7fd15efadb39"
      },
      "execution_count": 17,
      "outputs": [
        {
          "output_type": "stream",
          "name": "stdout",
          "text": [
            "First occurrence of 3 is 3\n"
          ]
        }
      ]
    }
  ]
}