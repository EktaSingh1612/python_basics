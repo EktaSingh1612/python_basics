{
  "nbformat": 4,
  "nbformat_minor": 0,
  "metadata": {
    "colab": {
      "provenance": []
    },
    "kernelspec": {
      "name": "python3",
      "display_name": "Python 3"
    },
    "language_info": {
      "name": "python"
    }
  },
  "cells": [
    {
      "cell_type": "markdown",
      "source": [
        "# if-else statement\n",
        "\n",
        "to check evaluation of certain expressions, whether the expressions evaluate to True or False. If the expression evaluates to False, the th program execution follows a different path than it would have if the expression had evaluated to True.\n",
        "\n",
        "Based on this, the conditional statement are further classified into:\n",
        "\n",
        "1. if\n",
        "2. if-else\n",
        "3. if-elif-else\n",
        "4. nested if-else-elif\n",
        "\n",
        "### conditional operators:-\n",
        "<,>,<=,>=,==,!="
      ],
      "metadata": {
        "id": "NpAPwMK8ai8_"
      }
    },
    {
      "cell_type": "code",
      "source": [
        "a = int(input('Enter your age: '))\n",
        "print('Your age is:',a)\n",
        "\n",
        "if (a>18):\n",
        "  print('You can drive')\n",
        "else:\n",
        "  print('You cant drive')"
      ],
      "metadata": {
        "colab": {
          "base_uri": "https://localhost:8080/"
        },
        "id": "6T1HSZcfaRN2",
        "outputId": "1202218c-b1bd-45a4-beed-fcc6a78a1b56"
      },
      "execution_count": 60,
      "outputs": [
        {
          "output_type": "stream",
          "name": "stdout",
          "text": [
            "Enter your age: 12\n",
            "Your age is: 12\n",
            "You cant drive\n"
          ]
        }
      ]
    },
    {
      "cell_type": "code",
      "source": [
        "apple=210\n",
        "budget=200\n",
        "if (apple<=budget):\n",
        "  print('add 1kg to the cart')\n",
        "else:\n",
        "  print('do not add apples to the cart')"
      ],
      "metadata": {
        "colab": {
          "base_uri": "https://localhost:8080/"
        },
        "id": "hFe3EuKycnBG",
        "outputId": "6fcb2ce2-e9df-4b61-a3cb-c97f99b298d4"
      },
      "execution_count": 61,
      "outputs": [
        {
          "output_type": "stream",
          "name": "stdout",
          "text": [
            "do not add apples to the cart\n"
          ]
        }
      ]
    },
    {
      "cell_type": "code",
      "source": [
        "apple=110\n",
        "budget=200\n",
        "if (budget - apple > 100):\n",
        "  print('add 1kg to the cart')\n",
        "elif (budget- apple > 50):\n",
        "  print('its ok you can buy')\n",
        "else:\n",
        "  print('do not add apples to the cart')"
      ],
      "metadata": {
        "colab": {
          "base_uri": "https://localhost:8080/"
        },
        "id": "Fnl06ic6cnNR",
        "outputId": "994f7974-1e31-4d40-9d06-8d60c2dd8f5a"
      },
      "execution_count": 66,
      "outputs": [
        {
          "output_type": "stream",
          "name": "stdout",
          "text": [
            "its ok you can buy\n"
          ]
        }
      ]
    },
    {
      "cell_type": "code",
      "source": [
        "num=int(input('enter your no.:'))\n",
        "if (num<0):\n",
        "  print('no. is negative')\n",
        "elif (num>0):\n",
        "  print('no. is positive')\n",
        "else:\n",
        "  print('no. is zero')"
      ],
      "metadata": {
        "colab": {
          "base_uri": "https://localhost:8080/"
        },
        "id": "1kNPary8cndd",
        "outputId": "ddafc01d-539d-457c-8c9d-f120be7cbd8b"
      },
      "execution_count": 67,
      "outputs": [
        {
          "output_type": "stream",
          "name": "stdout",
          "text": [
            "enter your no.:9\n",
            "no. is positive\n"
          ]
        }
      ]
    },
    {
      "cell_type": "markdown",
      "source": [
        "# Nested if statement\n",
        "\n"
      ],
      "metadata": {
        "id": "OCizA8wTfsIu"
      }
    },
    {
      "cell_type": "code",
      "source": [
        "num = int(input('enter your no.:'))\n",
        "if (num<0):\n",
        "  print('negative')\n",
        "elif (num>0):\n",
        "  if (num<=10):\n",
        "    print('between 1-10')\n",
        "  elif (num>10 and num<=100):\n",
        "    print('between 11-100')\n",
        "  else:\n",
        "    print('it is a above 100')\n",
        "else:\n",
        "  print('no. is 0')"
      ],
      "metadata": {
        "colab": {
          "base_uri": "https://localhost:8080/"
        },
        "id": "z0ZFeoaecnno",
        "outputId": "e20e0162-8c12-419c-f024-aa405ef437c9"
      },
      "execution_count": 69,
      "outputs": [
        {
          "output_type": "stream",
          "name": "stdout",
          "text": [
            "enter your no.:0\n",
            "no. is 0\n"
          ]
        }
      ]
    }
  ]
}